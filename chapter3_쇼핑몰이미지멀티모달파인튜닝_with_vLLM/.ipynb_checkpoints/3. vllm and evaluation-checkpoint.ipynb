{
 "cells": [
  {
   "cell_type": "code",
   "execution_count": 1,
   "id": "06f386e2-8e3b-4b65-962d-6334972a9e41",
   "metadata": {
    "scrolled": true
   },
   "outputs": [
    {
     "name": "stdout",
     "output_type": "stream",
     "text": [
      "Collecting qwen-vl-utils\n",
      "  Downloading qwen_vl_utils-0.0.11-py3-none-any.whl.metadata (6.3 kB)\n",
      "Collecting av (from qwen-vl-utils)\n",
      "  Downloading av-15.1.0-cp311-cp311-manylinux_2_28_x86_64.whl.metadata (4.6 kB)\n",
      "Requirement already satisfied: packaging in /usr/local/lib/python3.11/dist-packages (from qwen-vl-utils) (24.2)\n",
      "Requirement already satisfied: pillow in /usr/local/lib/python3.11/dist-packages (from qwen-vl-utils) (11.0.0)\n",
      "Requirement already satisfied: requests in /usr/local/lib/python3.11/dist-packages (from qwen-vl-utils) (2.32.3)\n",
      "Requirement already satisfied: charset-normalizer<4,>=2 in /usr/local/lib/python3.11/dist-packages (from requests->qwen-vl-utils) (3.4.1)\n",
      "Requirement already satisfied: idna<4,>=2.5 in /usr/local/lib/python3.11/dist-packages (from requests->qwen-vl-utils) (3.10)\n",
      "Requirement already satisfied: urllib3<3,>=1.21.1 in /usr/local/lib/python3.11/dist-packages (from requests->qwen-vl-utils) (2.3.0)\n",
      "Requirement already satisfied: certifi>=2017.4.17 in /usr/local/lib/python3.11/dist-packages (from requests->qwen-vl-utils) (2025.1.31)\n",
      "Downloading qwen_vl_utils-0.0.11-py3-none-any.whl (7.6 kB)\n",
      "Downloading av-15.1.0-cp311-cp311-manylinux_2_28_x86_64.whl (39.6 MB)\n",
      "\u001b[2K   \u001b[90m━━━━━━━━━━━━━━━━━━━━━━━━━━━━━━━━━━━━━━━━\u001b[0m \u001b[32m39.6/39.6 MB\u001b[0m \u001b[31m101.4 MB/s\u001b[0m eta \u001b[36m0:00:00\u001b[0m \u001b[36m0:00:01\u001b[0m\n",
      "\u001b[?25hInstalling collected packages: av, qwen-vl-utils\n",
      "Successfully installed av-15.1.0 qwen-vl-utils-0.0.11\n",
      "\u001b[33mWARNING: Running pip as the 'root' user can result in broken permissions and conflicting behaviour with the system package manager, possibly rendering your system unusable. It is recommended to use a virtual environment instead: https://pip.pypa.io/warnings/venv. Use the --root-user-action option if you know what you are doing and want to suppress this warning.\u001b[0m\u001b[33m\n",
      "\u001b[0m\n",
      "\u001b[1m[\u001b[0m\u001b[34;49mnotice\u001b[0m\u001b[1;39;49m]\u001b[0m\u001b[39;49m A new release of pip is available: \u001b[0m\u001b[31;49m25.0.1\u001b[0m\u001b[39;49m -> \u001b[0m\u001b[32;49m25.2\u001b[0m\n",
      "\u001b[1m[\u001b[0m\u001b[34;49mnotice\u001b[0m\u001b[1;39;49m]\u001b[0m\u001b[39;49m To update, run: \u001b[0m\u001b[32;49mpython -m pip install --upgrade pip\u001b[0m\n",
      "Collecting transformers==4.49\n",
      "  Downloading transformers-4.49.0-py3-none-any.whl.metadata (44 kB)\n",
      "Requirement already satisfied: filelock in /usr/local/lib/python3.11/dist-packages (from transformers==4.49) (3.16.1)\n",
      "Collecting huggingface-hub<1.0,>=0.26.0 (from transformers==4.49)\n",
      "  Downloading huggingface_hub-0.34.4-py3-none-any.whl.metadata (14 kB)\n",
      "Requirement already satisfied: numpy>=1.17 in /usr/local/lib/python3.11/dist-packages (from transformers==4.49) (2.1.2)\n",
      "Requirement already satisfied: packaging>=20.0 in /usr/local/lib/python3.11/dist-packages (from transformers==4.49) (24.2)\n",
      "Requirement already satisfied: pyyaml>=5.1 in /usr/local/lib/python3.11/dist-packages (from transformers==4.49) (6.0.2)\n",
      "Collecting regex!=2019.12.17 (from transformers==4.49)\n",
      "  Downloading regex-2025.9.1-cp311-cp311-manylinux2014_x86_64.manylinux_2_17_x86_64.manylinux_2_28_x86_64.whl.metadata (40 kB)\n",
      "Requirement already satisfied: requests in /usr/local/lib/python3.11/dist-packages (from transformers==4.49) (2.32.3)\n",
      "Collecting tokenizers<0.22,>=0.21 (from transformers==4.49)\n",
      "  Downloading tokenizers-0.21.4-cp39-abi3-manylinux_2_17_x86_64.manylinux2014_x86_64.whl.metadata (6.7 kB)\n",
      "Collecting safetensors>=0.4.1 (from transformers==4.49)\n",
      "  Downloading safetensors-0.6.2-cp38-abi3-manylinux_2_17_x86_64.manylinux2014_x86_64.whl.metadata (4.1 kB)\n",
      "Requirement already satisfied: tqdm>=4.27 in /usr/local/lib/python3.11/dist-packages (from transformers==4.49) (4.67.1)\n",
      "Requirement already satisfied: fsspec>=2023.5.0 in /usr/local/lib/python3.11/dist-packages (from huggingface-hub<1.0,>=0.26.0->transformers==4.49) (2024.10.0)\n",
      "Requirement already satisfied: typing-extensions>=3.7.4.3 in /usr/local/lib/python3.11/dist-packages (from huggingface-hub<1.0,>=0.26.0->transformers==4.49) (4.12.2)\n",
      "Collecting hf-xet<2.0.0,>=1.1.3 (from huggingface-hub<1.0,>=0.26.0->transformers==4.49)\n",
      "  Downloading hf_xet-1.1.9-cp37-abi3-manylinux_2_17_x86_64.manylinux2014_x86_64.whl.metadata (4.7 kB)\n",
      "Requirement already satisfied: charset-normalizer<4,>=2 in /usr/local/lib/python3.11/dist-packages (from requests->transformers==4.49) (3.4.1)\n",
      "Requirement already satisfied: idna<4,>=2.5 in /usr/local/lib/python3.11/dist-packages (from requests->transformers==4.49) (3.10)\n",
      "Requirement already satisfied: urllib3<3,>=1.21.1 in /usr/local/lib/python3.11/dist-packages (from requests->transformers==4.49) (2.3.0)\n",
      "Requirement already satisfied: certifi>=2017.4.17 in /usr/local/lib/python3.11/dist-packages (from requests->transformers==4.49) (2025.1.31)\n",
      "Downloading transformers-4.49.0-py3-none-any.whl (10.0 MB)\n",
      "\u001b[2K   \u001b[90m━━━━━━━━━━━━━━━━━━━━━━━━━━━━━━━━━━━━━━━━\u001b[0m \u001b[32m10.0/10.0 MB\u001b[0m \u001b[31m61.8 MB/s\u001b[0m eta \u001b[36m0:00:00\u001b[0m \u001b[36m0:00:01\u001b[0m\n",
      "\u001b[?25hDownloading huggingface_hub-0.34.4-py3-none-any.whl (561 kB)\n",
      "\u001b[2K   \u001b[90m━━━━━━━━━━━━━━━━━━━━━━━━━━━━━━━━━━━━━━━━\u001b[0m \u001b[32m561.5/561.5 kB\u001b[0m \u001b[31m75.5 MB/s\u001b[0m eta \u001b[36m0:00:00\u001b[0m\n",
      "\u001b[?25hDownloading regex-2025.9.1-cp311-cp311-manylinux2014_x86_64.manylinux_2_17_x86_64.manylinux_2_28_x86_64.whl (798 kB)\n",
      "\u001b[2K   \u001b[90m━━━━━━━━━━━━━━━━━━━━━━━━━━━━━━━━━━━━━━━━\u001b[0m \u001b[32m799.0/799.0 kB\u001b[0m \u001b[31m26.2 MB/s\u001b[0m eta \u001b[36m0:00:00\u001b[0m\n",
      "\u001b[?25hDownloading safetensors-0.6.2-cp38-abi3-manylinux_2_17_x86_64.manylinux2014_x86_64.whl (485 kB)\n",
      "Downloading tokenizers-0.21.4-cp39-abi3-manylinux_2_17_x86_64.manylinux2014_x86_64.whl (3.1 MB)\n",
      "\u001b[2K   \u001b[90m━━━━━━━━━━━━━━━━━━━━━━━━━━━━━━━━━━━━━━━━\u001b[0m \u001b[32m3.1/3.1 MB\u001b[0m \u001b[31m226.1 MB/s\u001b[0m eta \u001b[36m0:00:00\u001b[0m\n",
      "\u001b[?25hDownloading hf_xet-1.1.9-cp37-abi3-manylinux_2_17_x86_64.manylinux2014_x86_64.whl (3.2 MB)\n",
      "\u001b[2K   \u001b[90m━━━━━━━━━━━━━━━━━━━━━━━━━━━━━━━━━━━━━━━━\u001b[0m \u001b[32m3.2/3.2 MB\u001b[0m \u001b[31m170.6 MB/s\u001b[0m eta \u001b[36m0:00:00\u001b[0m\n",
      "\u001b[?25hInstalling collected packages: safetensors, regex, hf-xet, huggingface-hub, tokenizers, transformers\n",
      "Successfully installed hf-xet-1.1.9 huggingface-hub-0.34.4 regex-2025.9.1 safetensors-0.6.2 tokenizers-0.21.4 transformers-4.49.0\n",
      "\u001b[33mWARNING: Running pip as the 'root' user can result in broken permissions and conflicting behaviour with the system package manager, possibly rendering your system unusable. It is recommended to use a virtual environment instead: https://pip.pypa.io/warnings/venv. Use the --root-user-action option if you know what you are doing and want to suppress this warning.\u001b[0m\u001b[33m\n",
      "\u001b[0m\n",
      "\u001b[1m[\u001b[0m\u001b[34;49mnotice\u001b[0m\u001b[1;39;49m]\u001b[0m\u001b[39;49m A new release of pip is available: \u001b[0m\u001b[31;49m25.0.1\u001b[0m\u001b[39;49m -> \u001b[0m\u001b[32;49m25.2\u001b[0m\n",
      "\u001b[1m[\u001b[0m\u001b[34;49mnotice\u001b[0m\u001b[1;39;49m]\u001b[0m\u001b[39;49m To update, run: \u001b[0m\u001b[32;49mpython -m pip install --upgrade pip\u001b[0m\n",
      "Collecting vllm==0.8.1\n",
      "  Downloading vllm-0.8.1-cp38-abi3-manylinux1_x86_64.whl.metadata (26 kB)\n",
      "Collecting cachetools (from vllm==0.8.1)\n",
      "  Downloading cachetools-6.2.0-py3-none-any.whl.metadata (5.4 kB)\n",
      "Requirement already satisfied: psutil in /usr/local/lib/python3.11/dist-packages (from vllm==0.8.1) (7.0.0)\n",
      "Collecting sentencepiece (from vllm==0.8.1)\n",
      "  Downloading sentencepiece-0.2.1-cp311-cp311-manylinux_2_27_x86_64.manylinux_2_28_x86_64.whl.metadata (10 kB)\n",
      "Collecting numpy<2.0.0 (from vllm==0.8.1)\n",
      "  Downloading numpy-1.26.4-cp311-cp311-manylinux_2_17_x86_64.manylinux2014_x86_64.whl.metadata (61 kB)\n",
      "Requirement already satisfied: requests>=2.26.0 in /usr/local/lib/python3.11/dist-packages (from vllm==0.8.1) (2.32.3)\n",
      "Requirement already satisfied: tqdm in /usr/local/lib/python3.11/dist-packages (from vllm==0.8.1) (4.67.1)\n",
      "Collecting blake3 (from vllm==0.8.1)\n",
      "  Downloading blake3-1.0.5-cp311-cp311-manylinux_2_17_x86_64.manylinux2014_x86_64.whl.metadata (4.2 kB)\n",
      "Collecting py-cpuinfo (from vllm==0.8.1)\n",
      "  Downloading py_cpuinfo-9.0.0-py3-none-any.whl.metadata (794 bytes)\n",
      "Requirement already satisfied: transformers>=4.48.2 in /usr/local/lib/python3.11/dist-packages (from vllm==0.8.1) (4.49.0)\n",
      "Requirement already satisfied: tokenizers>=0.19.1 in /usr/local/lib/python3.11/dist-packages (from vllm==0.8.1) (0.21.4)\n",
      "Collecting protobuf (from vllm==0.8.1)\n",
      "  Downloading protobuf-6.32.0-cp39-abi3-manylinux2014_x86_64.whl.metadata (593 bytes)\n",
      "Requirement already satisfied: fastapi>=0.115.0 in /usr/local/lib/python3.11/dist-packages (from fastapi[standard]>=0.115.0->vllm==0.8.1) (0.116.1)\n",
      "Collecting aiohttp (from vllm==0.8.1)\n",
      "  Downloading aiohttp-3.12.15-cp311-cp311-manylinux_2_17_x86_64.manylinux2014_x86_64.whl.metadata (7.7 kB)\n",
      "Requirement already satisfied: openai>=1.52.0 in /usr/local/lib/python3.11/dist-packages (from vllm==0.8.1) (1.106.1)\n",
      "Requirement already satisfied: pydantic>=2.9 in /usr/local/lib/python3.11/dist-packages (from vllm==0.8.1) (2.11.7)\n",
      "Requirement already satisfied: prometheus_client>=0.18.0 in /usr/local/lib/python3.11/dist-packages (from vllm==0.8.1) (0.21.1)\n",
      "Requirement already satisfied: pillow in /usr/local/lib/python3.11/dist-packages (from vllm==0.8.1) (11.0.0)\n",
      "Collecting prometheus-fastapi-instrumentator>=7.0.0 (from vllm==0.8.1)\n",
      "  Downloading prometheus_fastapi_instrumentator-7.1.0-py3-none-any.whl.metadata (13 kB)\n",
      "Collecting tiktoken>=0.6.0 (from vllm==0.8.1)\n",
      "  Downloading tiktoken-0.11.0-cp311-cp311-manylinux_2_17_x86_64.manylinux2014_x86_64.whl.metadata (6.7 kB)\n",
      "Collecting lm-format-enforcer<0.11,>=0.10.11 (from vllm==0.8.1)\n",
      "  Downloading lm_format_enforcer-0.10.12-py3-none-any.whl.metadata (17 kB)\n",
      "Collecting outlines==0.1.11 (from vllm==0.8.1)\n",
      "  Downloading outlines-0.1.11-py3-none-any.whl.metadata (17 kB)\n",
      "Collecting lark==1.2.2 (from vllm==0.8.1)\n",
      "  Downloading lark-1.2.2-py3-none-any.whl.metadata (1.8 kB)\n",
      "Collecting xgrammar==0.1.16 (from vllm==0.8.1)\n",
      "  Downloading xgrammar-0.1.16-cp311-cp311-manylinux_2_17_x86_64.manylinux2014_x86_64.whl.metadata (3.3 kB)\n",
      "Requirement already satisfied: typing_extensions>=4.10 in /usr/local/lib/python3.11/dist-packages (from vllm==0.8.1) (4.12.2)\n",
      "Requirement already satisfied: filelock>=3.16.1 in /usr/local/lib/python3.11/dist-packages (from vllm==0.8.1) (3.16.1)\n",
      "Collecting partial-json-parser (from vllm==0.8.1)\n",
      "  Downloading partial_json_parser-0.2.1.1.post6-py3-none-any.whl.metadata (6.1 kB)\n",
      "Requirement already satisfied: pyzmq in /usr/local/lib/python3.11/dist-packages (from vllm==0.8.1) (26.3.0)\n",
      "Collecting msgspec (from vllm==0.8.1)\n",
      "  Downloading msgspec-0.19.0-cp311-cp311-manylinux_2_17_x86_64.manylinux2014_x86_64.whl.metadata (6.9 kB)\n",
      "Collecting gguf==0.10.0 (from vllm==0.8.1)\n",
      "  Downloading gguf-0.10.0-py3-none-any.whl.metadata (3.5 kB)\n",
      "Requirement already satisfied: importlib_metadata in /usr/lib/python3/dist-packages (from vllm==0.8.1) (4.6.4)\n",
      "Collecting mistral_common>=1.5.4 (from mistral_common[opencv]>=1.5.4->vllm==0.8.1)\n",
      "  Downloading mistral_common-1.8.4-py3-none-any.whl.metadata (5.1 kB)\n",
      "Requirement already satisfied: pyyaml in /usr/local/lib/python3.11/dist-packages (from vllm==0.8.1) (6.0.2)\n",
      "Collecting einops (from vllm==0.8.1)\n",
      "  Downloading einops-0.8.1-py3-none-any.whl.metadata (13 kB)\n",
      "Collecting compressed-tensors==0.9.2 (from vllm==0.8.1)\n",
      "  Downloading compressed_tensors-0.9.2-py3-none-any.whl.metadata (7.0 kB)\n",
      "Collecting depyf==0.18.0 (from vllm==0.8.1)\n",
      "  Downloading depyf-0.18.0-py3-none-any.whl.metadata (7.1 kB)\n",
      "Collecting cloudpickle (from vllm==0.8.1)\n",
      "  Downloading cloudpickle-3.1.1-py3-none-any.whl.metadata (7.1 kB)\n",
      "Collecting watchfiles (from vllm==0.8.1)\n",
      "  Downloading watchfiles-1.1.0-cp311-cp311-manylinux_2_17_x86_64.manylinux2014_x86_64.whl.metadata (4.9 kB)\n",
      "Requirement already satisfied: python-json-logger in /usr/local/lib/python3.11/dist-packages (from vllm==0.8.1) (3.3.0)\n",
      "Collecting scipy (from vllm==0.8.1)\n",
      "  Downloading scipy-1.16.1-cp311-cp311-manylinux2014_x86_64.manylinux_2_17_x86_64.whl.metadata (61 kB)\n",
      "Collecting ninja (from vllm==0.8.1)\n",
      "  Downloading ninja-1.13.0-py3-none-manylinux2014_x86_64.manylinux_2_17_x86_64.whl.metadata (5.1 kB)\n",
      "Collecting numba==0.60.0 (from vllm==0.8.1)\n",
      "  Downloading numba-0.60.0-cp311-cp311-manylinux2014_x86_64.manylinux_2_17_x86_64.whl.metadata (2.7 kB)\n",
      "Collecting ray>=2.43.0 (from ray[cgraph]>=2.43.0->vllm==0.8.1)\n",
      "  Downloading ray-2.49.1-cp311-cp311-manylinux2014_x86_64.whl.metadata (21 kB)\n",
      "Collecting torch==2.6.0 (from vllm==0.8.1)\n",
      "  Downloading torch-2.6.0-cp311-cp311-manylinux1_x86_64.whl.metadata (28 kB)\n",
      "Collecting torchaudio==2.6.0 (from vllm==0.8.1)\n",
      "  Downloading torchaudio-2.6.0-cp311-cp311-manylinux1_x86_64.whl.metadata (6.6 kB)\n",
      "Collecting torchvision==0.21.0 (from vllm==0.8.1)\n",
      "  Downloading torchvision-0.21.0-cp311-cp311-manylinux1_x86_64.whl.metadata (6.1 kB)\n",
      "Collecting xformers==0.0.29.post2 (from vllm==0.8.1)\n",
      "  Downloading xformers-0.0.29.post2-cp311-cp311-manylinux_2_28_x86_64.whl.metadata (1.0 kB)\n",
      "Collecting astor (from depyf==0.18.0->vllm==0.8.1)\n",
      "  Downloading astor-0.8.1-py2.py3-none-any.whl.metadata (4.2 kB)\n",
      "Collecting dill (from depyf==0.18.0->vllm==0.8.1)\n",
      "  Downloading dill-0.4.0-py3-none-any.whl.metadata (10 kB)\n",
      "Collecting llvmlite<0.44,>=0.43.0dev0 (from numba==0.60.0->vllm==0.8.1)\n",
      "  Downloading llvmlite-0.43.0-cp311-cp311-manylinux_2_17_x86_64.manylinux2014_x86_64.whl.metadata (4.8 kB)\n",
      "Collecting interegular (from outlines==0.1.11->vllm==0.8.1)\n",
      "  Downloading interegular-0.3.3-py37-none-any.whl.metadata (3.0 kB)\n",
      "Requirement already satisfied: jinja2 in /usr/local/lib/python3.11/dist-packages (from outlines==0.1.11->vllm==0.8.1) (3.1.4)\n",
      "Requirement already satisfied: nest_asyncio in /usr/local/lib/python3.11/dist-packages (from outlines==0.1.11->vllm==0.8.1) (1.6.0)\n",
      "Collecting diskcache (from outlines==0.1.11->vllm==0.8.1)\n",
      "  Downloading diskcache-5.6.3-py3-none-any.whl.metadata (20 kB)\n",
      "Requirement already satisfied: referencing in /usr/local/lib/python3.11/dist-packages (from outlines==0.1.11->vllm==0.8.1) (0.36.2)\n",
      "Requirement already satisfied: jsonschema in /usr/local/lib/python3.11/dist-packages (from outlines==0.1.11->vllm==0.8.1) (4.23.0)\n",
      "Collecting pycountry (from outlines==0.1.11->vllm==0.8.1)\n",
      "  Downloading pycountry-24.6.1-py3-none-any.whl.metadata (12 kB)\n",
      "Collecting airportsdata (from outlines==0.1.11->vllm==0.8.1)\n",
      "  Downloading airportsdata-20250811-py3-none-any.whl.metadata (9.1 kB)\n",
      "Collecting outlines_core==0.1.26 (from outlines==0.1.11->vllm==0.8.1)\n",
      "  Downloading outlines_core-0.1.26-cp311-cp311-manylinux_2_17_x86_64.manylinux2014_x86_64.whl.metadata (3.8 kB)\n",
      "Requirement already satisfied: networkx in /usr/local/lib/python3.11/dist-packages (from torch==2.6.0->vllm==0.8.1) (3.4.2)\n",
      "Requirement already satisfied: fsspec in /usr/local/lib/python3.11/dist-packages (from torch==2.6.0->vllm==0.8.1) (2024.10.0)\n",
      "Collecting nvidia-cuda-nvrtc-cu12==12.4.127 (from torch==2.6.0->vllm==0.8.1)\n",
      "  Downloading nvidia_cuda_nvrtc_cu12-12.4.127-py3-none-manylinux2014_x86_64.whl.metadata (1.5 kB)\n",
      "Collecting nvidia-cuda-runtime-cu12==12.4.127 (from torch==2.6.0->vllm==0.8.1)\n",
      "  Downloading nvidia_cuda_runtime_cu12-12.4.127-py3-none-manylinux2014_x86_64.whl.metadata (1.5 kB)\n",
      "Collecting nvidia-cuda-cupti-cu12==12.4.127 (from torch==2.6.0->vllm==0.8.1)\n",
      "  Downloading nvidia_cuda_cupti_cu12-12.4.127-py3-none-manylinux2014_x86_64.whl.metadata (1.6 kB)\n",
      "Collecting nvidia-cudnn-cu12==9.1.0.70 (from torch==2.6.0->vllm==0.8.1)\n",
      "  Downloading nvidia_cudnn_cu12-9.1.0.70-py3-none-manylinux2014_x86_64.whl.metadata (1.6 kB)\n",
      "Collecting nvidia-cublas-cu12==12.4.5.8 (from torch==2.6.0->vllm==0.8.1)\n",
      "  Downloading nvidia_cublas_cu12-12.4.5.8-py3-none-manylinux2014_x86_64.whl.metadata (1.5 kB)\n",
      "Collecting nvidia-cufft-cu12==11.2.1.3 (from torch==2.6.0->vllm==0.8.1)\n",
      "  Downloading nvidia_cufft_cu12-11.2.1.3-py3-none-manylinux2014_x86_64.whl.metadata (1.5 kB)\n",
      "Collecting nvidia-curand-cu12==10.3.5.147 (from torch==2.6.0->vllm==0.8.1)\n",
      "  Downloading nvidia_curand_cu12-10.3.5.147-py3-none-manylinux2014_x86_64.whl.metadata (1.5 kB)\n",
      "Collecting nvidia-cusolver-cu12==11.6.1.9 (from torch==2.6.0->vllm==0.8.1)\n",
      "  Downloading nvidia_cusolver_cu12-11.6.1.9-py3-none-manylinux2014_x86_64.whl.metadata (1.6 kB)\n",
      "Collecting nvidia-cusparse-cu12==12.3.1.170 (from torch==2.6.0->vllm==0.8.1)\n",
      "  Downloading nvidia_cusparse_cu12-12.3.1.170-py3-none-manylinux2014_x86_64.whl.metadata (1.6 kB)\n",
      "Collecting nvidia-cusparselt-cu12==0.6.2 (from torch==2.6.0->vllm==0.8.1)\n",
      "  Downloading nvidia_cusparselt_cu12-0.6.2-py3-none-manylinux2014_x86_64.whl.metadata (6.8 kB)\n",
      "Collecting nvidia-nccl-cu12==2.21.5 (from torch==2.6.0->vllm==0.8.1)\n",
      "  Downloading nvidia_nccl_cu12-2.21.5-py3-none-manylinux2014_x86_64.whl.metadata (1.8 kB)\n",
      "Collecting nvidia-nvtx-cu12==12.4.127 (from torch==2.6.0->vllm==0.8.1)\n",
      "  Downloading nvidia_nvtx_cu12-12.4.127-py3-none-manylinux2014_x86_64.whl.metadata (1.7 kB)\n",
      "Collecting nvidia-nvjitlink-cu12==12.4.127 (from torch==2.6.0->vllm==0.8.1)\n",
      "  Downloading nvidia_nvjitlink_cu12-12.4.127-py3-none-manylinux2014_x86_64.whl.metadata (1.5 kB)\n",
      "Collecting triton==3.2.0 (from torch==2.6.0->vllm==0.8.1)\n",
      "  Downloading triton-3.2.0-cp311-cp311-manylinux_2_17_x86_64.manylinux2014_x86_64.whl.metadata (1.4 kB)\n",
      "Collecting sympy==1.13.1 (from torch==2.6.0->vllm==0.8.1)\n",
      "  Downloading sympy-1.13.1-py3-none-any.whl.metadata (12 kB)\n",
      "Requirement already satisfied: mpmath<1.4,>=1.1.0 in /usr/local/lib/python3.11/dist-packages (from sympy==1.13.1->torch==2.6.0->vllm==0.8.1) (1.3.0)\n",
      "Requirement already satisfied: starlette<0.48.0,>=0.40.0 in /usr/local/lib/python3.11/dist-packages (from fastapi>=0.115.0->fastapi[standard]>=0.115.0->vllm==0.8.1) (0.47.3)\n",
      "Collecting fastapi-cli>=0.0.8 (from fastapi-cli[standard]>=0.0.8; extra == \"standard\"->fastapi[standard]>=0.115.0->vllm==0.8.1)\n",
      "  Downloading fastapi_cli-0.0.10-py3-none-any.whl.metadata (6.3 kB)\n",
      "Requirement already satisfied: httpx>=0.23.0 in /usr/local/lib/python3.11/dist-packages (from fastapi[standard]>=0.115.0->vllm==0.8.1) (0.28.1)\n",
      "Collecting jinja2 (from outlines==0.1.11->vllm==0.8.1)\n",
      "  Downloading jinja2-3.1.6-py3-none-any.whl.metadata (2.9 kB)\n",
      "Collecting python-multipart>=0.0.18 (from fastapi[standard]>=0.115.0->vllm==0.8.1)\n",
      "  Downloading python_multipart-0.0.20-py3-none-any.whl.metadata (1.8 kB)\n",
      "Collecting email-validator>=2.0.0 (from fastapi[standard]>=0.115.0->vllm==0.8.1)\n",
      "  Downloading email_validator-2.3.0-py3-none-any.whl.metadata (26 kB)\n",
      "Requirement already satisfied: uvicorn>=0.12.0 in /usr/local/lib/python3.11/dist-packages (from uvicorn[standard]>=0.12.0; extra == \"standard\"->fastapi[standard]>=0.115.0->vllm==0.8.1) (0.35.0)\n",
      "Requirement already satisfied: packaging in /usr/local/lib/python3.11/dist-packages (from lm-format-enforcer<0.11,>=0.10.11->vllm==0.8.1) (24.2)\n",
      "Collecting pydantic-extra-types>=2.10.5 (from pydantic-extra-types[pycountry]>=2.10.5->mistral_common>=1.5.4->mistral_common[opencv]>=1.5.4->vllm==0.8.1)\n",
      "  Downloading pydantic_extra_types-2.10.5-py3-none-any.whl.metadata (3.9 kB)\n",
      "Collecting opencv-python-headless>=4.0.0 (from mistral_common[opencv]>=1.5.4->vllm==0.8.1)\n",
      "  Downloading opencv_python_headless-4.12.0.88-cp37-abi3-manylinux2014_x86_64.manylinux_2_17_x86_64.whl.metadata (19 kB)\n",
      "Requirement already satisfied: anyio<5,>=3.5.0 in /usr/local/lib/python3.11/dist-packages (from openai>=1.52.0->vllm==0.8.1) (4.9.0)\n",
      "Requirement already satisfied: distro<2,>=1.7.0 in /usr/lib/python3/dist-packages (from openai>=1.52.0->vllm==0.8.1) (1.7.0)\n",
      "Requirement already satisfied: jiter<1,>=0.4.0 in /usr/local/lib/python3.11/dist-packages (from openai>=1.52.0->vllm==0.8.1) (0.10.0)\n",
      "Requirement already satisfied: sniffio in /usr/local/lib/python3.11/dist-packages (from openai>=1.52.0->vllm==0.8.1) (1.3.1)\n",
      "Requirement already satisfied: annotated-types>=0.6.0 in /usr/local/lib/python3.11/dist-packages (from pydantic>=2.9->vllm==0.8.1) (0.7.0)\n",
      "Requirement already satisfied: pydantic-core==2.33.2 in /usr/local/lib/python3.11/dist-packages (from pydantic>=2.9->vllm==0.8.1) (2.33.2)\n",
      "Requirement already satisfied: typing-inspection>=0.4.0 in /usr/local/lib/python3.11/dist-packages (from pydantic>=2.9->vllm==0.8.1) (0.4.1)\n",
      "Requirement already satisfied: click>=7.0 in /usr/local/lib/python3.11/dist-packages (from ray>=2.43.0->ray[cgraph]>=2.43.0->vllm==0.8.1) (8.2.1)\n",
      "Collecting msgpack<2.0.0,>=1.0.0 (from ray>=2.43.0->ray[cgraph]>=2.43.0->vllm==0.8.1)\n",
      "  Downloading msgpack-1.1.1-cp311-cp311-manylinux_2_17_x86_64.manylinux2014_x86_64.whl.metadata (8.4 kB)\n",
      "Collecting cupy-cuda12x (from ray[cgraph]>=2.43.0->vllm==0.8.1)\n",
      "  Downloading cupy_cuda12x-13.6.0-cp311-cp311-manylinux2014_x86_64.whl.metadata (2.4 kB)\n",
      "Requirement already satisfied: charset-normalizer<4,>=2 in /usr/local/lib/python3.11/dist-packages (from requests>=2.26.0->vllm==0.8.1) (3.4.1)\n",
      "Requirement already satisfied: idna<4,>=2.5 in /usr/local/lib/python3.11/dist-packages (from requests>=2.26.0->vllm==0.8.1) (3.10)\n",
      "Requirement already satisfied: urllib3<3,>=1.21.1 in /usr/local/lib/python3.11/dist-packages (from requests>=2.26.0->vllm==0.8.1) (2.3.0)\n",
      "Requirement already satisfied: certifi>=2017.4.17 in /usr/local/lib/python3.11/dist-packages (from requests>=2.26.0->vllm==0.8.1) (2025.1.31)\n",
      "Requirement already satisfied: regex>=2022.1.18 in /usr/local/lib/python3.11/dist-packages (from tiktoken>=0.6.0->vllm==0.8.1) (2025.9.1)\n",
      "Requirement already satisfied: huggingface-hub<1.0,>=0.16.4 in /usr/local/lib/python3.11/dist-packages (from tokenizers>=0.19.1->vllm==0.8.1) (0.34.4)\n",
      "Requirement already satisfied: safetensors>=0.4.1 in /usr/local/lib/python3.11/dist-packages (from transformers>=4.48.2->vllm==0.8.1) (0.6.2)\n",
      "Collecting aiohappyeyeballs>=2.5.0 (from aiohttp->vllm==0.8.1)\n",
      "  Downloading aiohappyeyeballs-2.6.1-py3-none-any.whl.metadata (5.9 kB)\n",
      "Collecting aiosignal>=1.4.0 (from aiohttp->vllm==0.8.1)\n",
      "  Downloading aiosignal-1.4.0-py3-none-any.whl.metadata (3.7 kB)\n",
      "Requirement already satisfied: attrs>=17.3.0 in /usr/local/lib/python3.11/dist-packages (from aiohttp->vllm==0.8.1) (25.3.0)\n",
      "Collecting frozenlist>=1.1.1 (from aiohttp->vllm==0.8.1)\n",
      "  Downloading frozenlist-1.7.0-cp311-cp311-manylinux_2_5_x86_64.manylinux1_x86_64.manylinux_2_17_x86_64.manylinux2014_x86_64.whl.metadata (18 kB)\n",
      "Collecting multidict<7.0,>=4.5 (from aiohttp->vllm==0.8.1)\n",
      "  Downloading multidict-6.6.4-cp311-cp311-manylinux2014_x86_64.manylinux_2_17_x86_64.manylinux_2_28_x86_64.whl.metadata (5.3 kB)\n",
      "Collecting propcache>=0.2.0 (from aiohttp->vllm==0.8.1)\n",
      "  Downloading propcache-0.3.2-cp311-cp311-manylinux_2_17_x86_64.manylinux2014_x86_64.whl.metadata (12 kB)\n",
      "Collecting yarl<2.0,>=1.17.0 (from aiohttp->vllm==0.8.1)\n",
      "  Downloading yarl-1.20.1-cp311-cp311-manylinux_2_17_x86_64.manylinux2014_x86_64.whl.metadata (73 kB)\n",
      "Collecting dnspython>=2.0.0 (from email-validator>=2.0.0->fastapi[standard]>=0.115.0->vllm==0.8.1)\n",
      "  Downloading dnspython-2.7.0-py3-none-any.whl.metadata (5.8 kB)\n",
      "Collecting typer>=0.15.1 (from fastapi-cli>=0.0.8->fastapi-cli[standard]>=0.0.8; extra == \"standard\"->fastapi[standard]>=0.115.0->vllm==0.8.1)\n",
      "  Downloading typer-0.17.4-py3-none-any.whl.metadata (15 kB)\n",
      "Collecting rich-toolkit>=0.14.8 (from fastapi-cli>=0.0.8->fastapi-cli[standard]>=0.0.8; extra == \"standard\"->fastapi[standard]>=0.115.0->vllm==0.8.1)\n",
      "  Downloading rich_toolkit-0.15.1-py3-none-any.whl.metadata (1.0 kB)\n",
      "Collecting fastapi-cloud-cli>=0.1.1 (from fastapi-cli[standard]>=0.0.8; extra == \"standard\"->fastapi[standard]>=0.115.0->vllm==0.8.1)\n",
      "  Downloading fastapi_cloud_cli-0.1.5-py3-none-any.whl.metadata (3.2 kB)\n",
      "Requirement already satisfied: httpcore==1.* in /usr/local/lib/python3.11/dist-packages (from httpx>=0.23.0->fastapi[standard]>=0.115.0->vllm==0.8.1) (1.0.7)\n",
      "Requirement already satisfied: h11<0.15,>=0.13 in /usr/local/lib/python3.11/dist-packages (from httpcore==1.*->httpx>=0.23.0->fastapi[standard]>=0.115.0->vllm==0.8.1) (0.14.0)\n",
      "Requirement already satisfied: hf-xet<2.0.0,>=1.1.3 in /usr/local/lib/python3.11/dist-packages (from huggingface-hub<1.0,>=0.16.4->tokenizers>=0.19.1->vllm==0.8.1) (1.1.9)\n",
      "Requirement already satisfied: MarkupSafe>=2.0 in /usr/local/lib/python3.11/dist-packages (from jinja2->outlines==0.1.11->vllm==0.8.1) (2.1.5)\n",
      "Requirement already satisfied: jsonschema-specifications>=2023.03.6 in /usr/local/lib/python3.11/dist-packages (from jsonschema->outlines==0.1.11->vllm==0.8.1) (2024.10.1)\n",
      "Requirement already satisfied: rpds-py>=0.7.1 in /usr/local/lib/python3.11/dist-packages (from jsonschema->outlines==0.1.11->vllm==0.8.1) (0.23.1)\n",
      "INFO: pip is looking at multiple versions of opencv-python-headless to determine which version is compatible with other requirements. This could take a while.\n",
      "Collecting opencv-python-headless>=4.0.0 (from mistral_common[opencv]>=1.5.4->vllm==0.8.1)\n",
      "  Downloading opencv_python_headless-4.11.0.86-cp37-abi3-manylinux_2_17_x86_64.manylinux2014_x86_64.whl.metadata (20 kB)\n",
      "Collecting httptools>=0.6.3 (from uvicorn[standard]>=0.12.0; extra == \"standard\"->fastapi[standard]>=0.115.0->vllm==0.8.1)\n",
      "  Downloading httptools-0.6.4-cp311-cp311-manylinux_2_5_x86_64.manylinux1_x86_64.manylinux_2_17_x86_64.manylinux2014_x86_64.whl.metadata (3.6 kB)\n",
      "Requirement already satisfied: python-dotenv>=0.13 in /usr/local/lib/python3.11/dist-packages (from uvicorn[standard]>=0.12.0; extra == \"standard\"->fastapi[standard]>=0.115.0->vllm==0.8.1) (1.1.1)\n",
      "Collecting uvloop>=0.15.1 (from uvicorn[standard]>=0.12.0; extra == \"standard\"->fastapi[standard]>=0.115.0->vllm==0.8.1)\n",
      "  Downloading uvloop-0.21.0-cp311-cp311-manylinux_2_17_x86_64.manylinux2014_x86_64.whl.metadata (4.9 kB)\n",
      "Collecting websockets>=10.4 (from uvicorn[standard]>=0.12.0; extra == \"standard\"->fastapi[standard]>=0.115.0->vllm==0.8.1)\n",
      "  Downloading websockets-15.0.1-cp311-cp311-manylinux_2_5_x86_64.manylinux1_x86_64.manylinux_2_17_x86_64.manylinux2014_x86_64.whl.metadata (6.8 kB)\n",
      "Collecting fastrlock>=0.5 (from cupy-cuda12x->ray[cgraph]>=2.43.0->vllm==0.8.1)\n",
      "  Downloading fastrlock-0.8.3-cp311-cp311-manylinux_2_5_x86_64.manylinux1_x86_64.manylinux_2_28_x86_64.whl.metadata (7.7 kB)\n",
      "Collecting rignore>=0.5.1 (from fastapi-cloud-cli>=0.1.1->fastapi-cli[standard]>=0.0.8; extra == \"standard\"->fastapi[standard]>=0.115.0->vllm==0.8.1)\n",
      "  Downloading rignore-0.6.4-cp311-cp311-manylinux_2_17_x86_64.manylinux2014_x86_64.whl.metadata (3.8 kB)\n",
      "Collecting sentry-sdk>=2.20.0 (from fastapi-cloud-cli>=0.1.1->fastapi-cli[standard]>=0.0.8; extra == \"standard\"->fastapi[standard]>=0.115.0->vllm==0.8.1)\n",
      "  Downloading sentry_sdk-2.37.0-py2.py3-none-any.whl.metadata (10 kB)\n",
      "Collecting rich>=13.7.1 (from rich-toolkit>=0.14.8->fastapi-cli>=0.0.8->fastapi-cli[standard]>=0.0.8; extra == \"standard\"->fastapi[standard]>=0.115.0->vllm==0.8.1)\n",
      "  Downloading rich-14.1.0-py3-none-any.whl.metadata (18 kB)\n",
      "Collecting shellingham>=1.3.0 (from typer>=0.15.1->fastapi-cli>=0.0.8->fastapi-cli[standard]>=0.0.8; extra == \"standard\"->fastapi[standard]>=0.115.0->vllm==0.8.1)\n",
      "  Downloading shellingham-1.5.4-py2.py3-none-any.whl.metadata (3.5 kB)\n",
      "Collecting markdown-it-py>=2.2.0 (from rich>=13.7.1->rich-toolkit>=0.14.8->fastapi-cli>=0.0.8->fastapi-cli[standard]>=0.0.8; extra == \"standard\"->fastapi[standard]>=0.115.0->vllm==0.8.1)\n",
      "  Downloading markdown_it_py-4.0.0-py3-none-any.whl.metadata (7.3 kB)\n",
      "Requirement already satisfied: pygments<3.0.0,>=2.13.0 in /usr/local/lib/python3.11/dist-packages (from rich>=13.7.1->rich-toolkit>=0.14.8->fastapi-cli>=0.0.8->fastapi-cli[standard]>=0.0.8; extra == \"standard\"->fastapi[standard]>=0.115.0->vllm==0.8.1) (2.19.1)\n",
      "Collecting mdurl~=0.1 (from markdown-it-py>=2.2.0->rich>=13.7.1->rich-toolkit>=0.14.8->fastapi-cli>=0.0.8->fastapi-cli[standard]>=0.0.8; extra == \"standard\"->fastapi[standard]>=0.115.0->vllm==0.8.1)\n",
      "  Downloading mdurl-0.1.2-py3-none-any.whl.metadata (1.6 kB)\n",
      "Downloading vllm-0.8.1-cp38-abi3-manylinux1_x86_64.whl (265.3 MB)\n",
      "\u001b[2K   \u001b[90m━━━━━━━━━━━━━━━━━━━━━━━━━━━━━━━━━━━━━━━━\u001b[0m \u001b[32m265.3/265.3 MB\u001b[0m \u001b[31m7.6 MB/s\u001b[0m eta \u001b[36m0:00:00\u001b[0m00:01\u001b[0m00:02\u001b[0m\n",
      "\u001b[?25hDownloading compressed_tensors-0.9.2-py3-none-any.whl (97 kB)\n",
      "Downloading depyf-0.18.0-py3-none-any.whl (38 kB)\n",
      "Downloading gguf-0.10.0-py3-none-any.whl (71 kB)\n",
      "Downloading lark-1.2.2-py3-none-any.whl (111 kB)\n",
      "Downloading numba-0.60.0-cp311-cp311-manylinux2014_x86_64.manylinux_2_17_x86_64.whl (3.7 MB)\n",
      "\u001b[2K   \u001b[90m━━━━━━━━━━━━━━━━━━━━━━━━━━━━━━━━━━━━━━━━\u001b[0m \u001b[32m3.7/3.7 MB\u001b[0m \u001b[31m50.5 MB/s\u001b[0m eta \u001b[36m0:00:00\u001b[0m\n",
      "\u001b[?25hDownloading outlines-0.1.11-py3-none-any.whl (87 kB)\n",
      "Downloading torch-2.6.0-cp311-cp311-manylinux1_x86_64.whl (766.7 MB)\n",
      "\u001b[2K   \u001b[90m━━━━━━━━━━━━━━━━━━━━━━━━━━━━━━━━━━━━━━━━\u001b[0m \u001b[32m766.7/766.7 MB\u001b[0m \u001b[31m50.7 MB/s\u001b[0m eta \u001b[36m0:00:00\u001b[0m00:01\u001b[0m00:01\u001b[0m\n",
      "\u001b[?25hDownloading torchaudio-2.6.0-cp311-cp311-manylinux1_x86_64.whl (3.4 MB)\n",
      "\u001b[2K   \u001b[90m━━━━━━━━━━━━━━━━━━━━━━━━━━━━━━━━━━━━━━━━\u001b[0m \u001b[32m3.4/3.4 MB\u001b[0m \u001b[31m19.6 MB/s\u001b[0m eta \u001b[36m0:00:00\u001b[0m\n",
      "\u001b[?25hDownloading torchvision-0.21.0-cp311-cp311-manylinux1_x86_64.whl (7.2 MB)\n",
      "\u001b[2K   \u001b[90m━━━━━━━━━━━━━━━━━━━━━━━━━━━━━━━━━━━━━━━━\u001b[0m \u001b[32m7.2/7.2 MB\u001b[0m \u001b[31m63.9 MB/s\u001b[0m eta \u001b[36m0:00:00\u001b[0m\n",
      "\u001b[?25hDownloading xformers-0.0.29.post2-cp311-cp311-manylinux_2_28_x86_64.whl (44.3 MB)\n",
      "\u001b[2K   \u001b[90m━━━━━━━━━━━━━━━━━━━━━━━━━━━━━━━━━━━━━━━━\u001b[0m \u001b[32m44.3/44.3 MB\u001b[0m \u001b[31m15.8 MB/s\u001b[0m eta \u001b[36m0:00:00\u001b[0ma \u001b[36m0:00:01\u001b[0m\n",
      "\u001b[?25hDownloading xgrammar-0.1.16-cp311-cp311-manylinux_2_17_x86_64.manylinux2014_x86_64.whl (4.8 MB)\n",
      "\u001b[2K   \u001b[90m━━━━━━━━━━━━━━━━━━━━━━━━━━━━━━━━━━━━━━━━\u001b[0m \u001b[32m4.8/4.8 MB\u001b[0m \u001b[31m9.9 MB/s\u001b[0m eta \u001b[36m0:00:00\u001b[0mta \u001b[36m0:00:01\u001b[0m\n",
      "\u001b[?25hDownloading nvidia_cublas_cu12-12.4.5.8-py3-none-manylinux2014_x86_64.whl (363.4 MB)\n",
      "\u001b[2K   \u001b[90m━━━━━━━━━━━━━━━━━━━━━━━━━━━━━━━━━━━━━━━━\u001b[0m \u001b[32m363.4/363.4 MB\u001b[0m \u001b[31m62.5 MB/s\u001b[0m eta \u001b[36m0:00:00\u001b[0m00:01\u001b[0m00:01\u001b[0m\n",
      "\u001b[?25hDownloading nvidia_cuda_cupti_cu12-12.4.127-py3-none-manylinux2014_x86_64.whl (13.8 MB)\n",
      "\u001b[2K   \u001b[90m━━━━━━━━━━━━━━━━━━━━━━━━━━━━━━━━━━━━━━━━\u001b[0m \u001b[32m13.8/13.8 MB\u001b[0m \u001b[31m92.5 MB/s\u001b[0m eta \u001b[36m0:00:00\u001b[0m\n",
      "\u001b[?25hDownloading nvidia_cuda_nvrtc_cu12-12.4.127-py3-none-manylinux2014_x86_64.whl (24.6 MB)\n",
      "\u001b[2K   \u001b[90m━━━━━━━━━━━━━━━━━━━━━━━━━━━━━━━━━━━━━━━━\u001b[0m \u001b[32m24.6/24.6 MB\u001b[0m \u001b[31m60.2 MB/s\u001b[0m eta \u001b[36m0:00:00\u001b[0m00:01\u001b[0m0:01\u001b[0m\n",
      "\u001b[?25hDownloading nvidia_cuda_runtime_cu12-12.4.127-py3-none-manylinux2014_x86_64.whl (883 kB)\n",
      "\u001b[2K   \u001b[90m━━━━━━━━━━━━━━━━━━━━━━━━━━━━━━━━━━━━━━━━\u001b[0m \u001b[32m883.7/883.7 kB\u001b[0m \u001b[31m95.8 MB/s\u001b[0m eta \u001b[36m0:00:00\u001b[0m\n",
      "\u001b[?25hDownloading nvidia_cudnn_cu12-9.1.0.70-py3-none-manylinux2014_x86_64.whl (664.8 MB)\n",
      "\u001b[2K   \u001b[90m━━━━━━━━━━━━━━━━━━━━━━━━━━━━━━━━━━━━━━━\u001b[0m \u001b[32m664.8/664.8 MB\u001b[0m \u001b[31m102.8 MB/s\u001b[0m eta \u001b[36m0:00:00\u001b[0m00:01\u001b[0m00:01\u001b[0m\n",
      "\u001b[?25hDownloading nvidia_cufft_cu12-11.2.1.3-py3-none-manylinux2014_x86_64.whl (211.5 MB)\n",
      "\u001b[2K   \u001b[90m━━━━━━━━━━━━━━━━━━━━━━━━━━━━━━━━━━━━━━━━\u001b[0m \u001b[32m211.5/211.5 MB\u001b[0m \u001b[31m95.4 MB/s\u001b[0m eta \u001b[36m0:00:00\u001b[0ma \u001b[36m0:00:01\u001b[0m\n",
      "\u001b[?25hDownloading nvidia_curand_cu12-10.3.5.147-py3-none-manylinux2014_x86_64.whl (56.3 MB)\n",
      "\u001b[2K   \u001b[90m━━━━━━━━━━━━━━━━━━━━━━━━━━━━━━━━━━━━━━━━\u001b[0m \u001b[32m56.3/56.3 MB\u001b[0m \u001b[31m132.0 MB/s\u001b[0m eta \u001b[36m0:00:00\u001b[0m00:01\u001b[0m00:01\u001b[0m\n",
      "\u001b[?25hDownloading nvidia_cusolver_cu12-11.6.1.9-py3-none-manylinux2014_x86_64.whl (127.9 MB)\n",
      "\u001b[2K   \u001b[90m━━━━━━━━━━━━━━━━━━━━━━━━━━━━━━━━━━━━━━━\u001b[0m \u001b[32m127.9/127.9 MB\u001b[0m \u001b[31m114.1 MB/s\u001b[0m eta \u001b[36m0:00:00\u001b[0ma \u001b[36m0:00:01\u001b[0m\n",
      "\u001b[?25hDownloading nvidia_cusparse_cu12-12.3.1.170-py3-none-manylinux2014_x86_64.whl (207.5 MB)\n",
      "\u001b[2K   \u001b[90m━━━━━━━━━━━━━━━━━━━━━━━━━━━━━━━━━━━━━━━\u001b[0m \u001b[32m207.5/207.5 MB\u001b[0m \u001b[31m105.6 MB/s\u001b[0m eta \u001b[36m0:00:00\u001b[0ma \u001b[36m0:00:01\u001b[0m\n",
      "\u001b[?25hDownloading nvidia_cusparselt_cu12-0.6.2-py3-none-manylinux2014_x86_64.whl (150.1 MB)\n",
      "\u001b[2K   \u001b[90m━━━━━━━━━━━━━━━━━━━━━━━━━━━━━━━━━━━━━━━━\u001b[0m \u001b[32m150.1/150.1 MB\u001b[0m \u001b[31m82.8 MB/s\u001b[0m eta \u001b[36m0:00:00\u001b[0ma \u001b[36m0:00:01\u001b[0m\n",
      "\u001b[?25hDownloading nvidia_nccl_cu12-2.21.5-py3-none-manylinux2014_x86_64.whl (188.7 MB)\n",
      "\u001b[2K   \u001b[90m━━━━━━━━━━━━━━━━━━━━━━━━━━━━━━━━━━━━━━━\u001b[0m \u001b[32m188.7/188.7 MB\u001b[0m \u001b[31m125.9 MB/s\u001b[0m eta \u001b[36m0:00:00\u001b[0m00:01\u001b[0m00:01\u001b[0m\n",
      "\u001b[?25hDownloading nvidia_nvjitlink_cu12-12.4.127-py3-none-manylinux2014_x86_64.whl (21.1 MB)\n",
      "\u001b[2K   \u001b[90m━━━━━━━━━━━━━━━━━━━━━━━━━━━━━━━━━━━━━━━━\u001b[0m \u001b[32m21.1/21.1 MB\u001b[0m \u001b[31m123.6 MB/s\u001b[0m eta \u001b[36m0:00:00\u001b[0m\n",
      "\u001b[?25hDownloading nvidia_nvtx_cu12-12.4.127-py3-none-manylinux2014_x86_64.whl (99 kB)\n",
      "Downloading outlines_core-0.1.26-cp311-cp311-manylinux_2_17_x86_64.manylinux2014_x86_64.whl (343 kB)\n",
      "Downloading sympy-1.13.1-py3-none-any.whl (6.2 MB)\n",
      "\u001b[2K   \u001b[90m━━━━━━━━━━━━━━━━━━━━━━━━━━━━━━━━━━━━━━━━\u001b[0m \u001b[32m6.2/6.2 MB\u001b[0m \u001b[31m202.9 MB/s\u001b[0m eta \u001b[36m0:00:00\u001b[0m\n",
      "\u001b[?25hDownloading triton-3.2.0-cp311-cp311-manylinux_2_17_x86_64.manylinux2014_x86_64.whl (253.2 MB)\n",
      "\u001b[2K   \u001b[90m━━━━━━━━━━━━━━━━━━━━━━━━━━━━━━━━━━━━━━━━\u001b[0m \u001b[32m253.2/253.2 MB\u001b[0m \u001b[31m90.6 MB/s\u001b[0m eta \u001b[36m0:00:00\u001b[0m00:01\u001b[0m00:01\u001b[0m\n",
      "\u001b[?25hDownloading lm_format_enforcer-0.10.12-py3-none-any.whl (44 kB)\n",
      "Downloading mistral_common-1.8.4-py3-none-any.whl (6.5 MB)\n",
      "\u001b[2K   \u001b[90m━━━━━━━━━━━━━━━━━━━━━━━━━━━━━━━━━━━━━━━━\u001b[0m \u001b[32m6.5/6.5 MB\u001b[0m \u001b[31m121.7 MB/s\u001b[0m eta \u001b[36m0:00:00\u001b[0m\n",
      "\u001b[?25hDownloading numpy-1.26.4-cp311-cp311-manylinux_2_17_x86_64.manylinux2014_x86_64.whl (18.3 MB)\n",
      "\u001b[2K   \u001b[90m━━━━━━━━━━━━━━━━━━━━━━━━━━━━━━━━━━━━━━━━\u001b[0m \u001b[32m18.3/18.3 MB\u001b[0m \u001b[31m107.0 MB/s\u001b[0m eta \u001b[36m0:00:00\u001b[0m\n",
      "\u001b[?25hDownloading prometheus_fastapi_instrumentator-7.1.0-py3-none-any.whl (19 kB)\n",
      "Downloading ray-2.49.1-cp311-cp311-manylinux2014_x86_64.whl (70.1 MB)\n",
      "\u001b[2K   \u001b[90m━━━━━━━━━━━━━━━━━━━━━━━━━━━━━━━━━━━━━━━━\u001b[0m \u001b[32m70.1/70.1 MB\u001b[0m \u001b[31m81.2 MB/s\u001b[0m eta \u001b[36m0:00:00\u001b[0ma \u001b[36m0:00:01\u001b[0mm\n",
      "\u001b[?25hDownloading protobuf-6.32.0-cp39-abi3-manylinux2014_x86_64.whl (322 kB)\n",
      "Downloading tiktoken-0.11.0-cp311-cp311-manylinux_2_17_x86_64.manylinux2014_x86_64.whl (1.2 MB)\n",
      "\u001b[2K   \u001b[90m━━━━━━━━━━━━━━━━━━━━━━━━━━━━━━━━━━━━━━━━\u001b[0m \u001b[32m1.2/1.2 MB\u001b[0m \u001b[31m176.1 MB/s\u001b[0m eta \u001b[36m0:00:00\u001b[0m\n",
      "\u001b[?25hDownloading aiohttp-3.12.15-cp311-cp311-manylinux_2_17_x86_64.manylinux2014_x86_64.whl (1.7 MB)\n",
      "\u001b[2K   \u001b[90m━━━━━━━━━━━━━━━━━━━━━━━━━━━━━━━━━━━━━━━━\u001b[0m \u001b[32m1.7/1.7 MB\u001b[0m \u001b[31m209.5 MB/s\u001b[0m eta \u001b[36m0:00:00\u001b[0m\n",
      "\u001b[?25hDownloading blake3-1.0.5-cp311-cp311-manylinux_2_17_x86_64.manylinux2014_x86_64.whl (385 kB)\n",
      "Downloading cachetools-6.2.0-py3-none-any.whl (11 kB)\n",
      "Downloading cloudpickle-3.1.1-py3-none-any.whl (20 kB)\n",
      "Downloading einops-0.8.1-py3-none-any.whl (64 kB)\n",
      "Downloading msgspec-0.19.0-cp311-cp311-manylinux_2_17_x86_64.manylinux2014_x86_64.whl (210 kB)\n",
      "Downloading ninja-1.13.0-py3-none-manylinux2014_x86_64.manylinux_2_17_x86_64.whl (180 kB)\n",
      "Downloading partial_json_parser-0.2.1.1.post6-py3-none-any.whl (10 kB)\n",
      "Downloading py_cpuinfo-9.0.0-py3-none-any.whl (22 kB)\n",
      "Downloading scipy-1.16.1-cp311-cp311-manylinux2014_x86_64.manylinux_2_17_x86_64.whl (35.4 MB)\n",
      "\u001b[2K   \u001b[90m━━━━━━━━━━━━━━━━━━━━━━━━━━━━━━━━━━━━━━━━\u001b[0m \u001b[32m35.4/35.4 MB\u001b[0m \u001b[31m165.1 MB/s\u001b[0m eta \u001b[36m0:00:00\u001b[0m00:01\u001b[0m\n",
      "\u001b[?25hDownloading sentencepiece-0.2.1-cp311-cp311-manylinux_2_27_x86_64.manylinux_2_28_x86_64.whl (1.4 MB)\n",
      "\u001b[2K   \u001b[90m━━━━━━━━━━━━━━━━━━━━━━━━━━━━━━━━━━━━━━━━\u001b[0m \u001b[32m1.4/1.4 MB\u001b[0m \u001b[31m196.5 MB/s\u001b[0m eta \u001b[36m0:00:00\u001b[0m\n",
      "\u001b[?25hDownloading watchfiles-1.1.0-cp311-cp311-manylinux_2_17_x86_64.manylinux2014_x86_64.whl (453 kB)\n",
      "Downloading aiohappyeyeballs-2.6.1-py3-none-any.whl (15 kB)\n",
      "Downloading aiosignal-1.4.0-py3-none-any.whl (7.5 kB)\n",
      "Downloading email_validator-2.3.0-py3-none-any.whl (35 kB)\n",
      "Downloading fastapi_cli-0.0.10-py3-none-any.whl (10 kB)\n",
      "Downloading frozenlist-1.7.0-cp311-cp311-manylinux_2_5_x86_64.manylinux1_x86_64.manylinux_2_17_x86_64.manylinux2014_x86_64.whl (235 kB)\n",
      "Downloading interegular-0.3.3-py37-none-any.whl (23 kB)\n",
      "Downloading jinja2-3.1.6-py3-none-any.whl (134 kB)\n",
      "Downloading llvmlite-0.43.0-cp311-cp311-manylinux_2_17_x86_64.manylinux2014_x86_64.whl (43.9 MB)\n",
      "\u001b[2K   \u001b[90m━━━━━━━━━━━━━━━━━━━━━━━━━━━━━━━━━━━━━━━━\u001b[0m \u001b[32m43.9/43.9 MB\u001b[0m \u001b[31m91.7 MB/s\u001b[0m eta \u001b[36m0:00:00\u001b[0ma \u001b[36m0:00:01\u001b[0m\n",
      "\u001b[?25hDownloading msgpack-1.1.1-cp311-cp311-manylinux_2_17_x86_64.manylinux2014_x86_64.whl (429 kB)\n",
      "Downloading multidict-6.6.4-cp311-cp311-manylinux2014_x86_64.manylinux_2_17_x86_64.manylinux_2_28_x86_64.whl (246 kB)\n",
      "Downloading opencv_python_headless-4.11.0.86-cp37-abi3-manylinux_2_17_x86_64.manylinux2014_x86_64.whl (50.0 MB)\n",
      "\u001b[2K   \u001b[90m━━━━━━━━━━━━━━━━━━━━━━━━━━━━━━━━━━━━━━━━\u001b[0m \u001b[32m50.0/50.0 MB\u001b[0m \u001b[31m163.0 MB/s\u001b[0m eta \u001b[36m0:00:00\u001b[0ma \u001b[36m0:00:01\u001b[0m\n",
      "\u001b[?25hDownloading propcache-0.3.2-cp311-cp311-manylinux_2_17_x86_64.manylinux2014_x86_64.whl (213 kB)\n",
      "Downloading pydantic_extra_types-2.10.5-py3-none-any.whl (38 kB)\n",
      "Downloading pycountry-24.6.1-py3-none-any.whl (6.3 MB)\n",
      "\u001b[2K   \u001b[90m━━━━━━━━━━━━━━━━━━━━━━━━━━━━━━━━━━━━━━━━\u001b[0m \u001b[32m6.3/6.3 MB\u001b[0m \u001b[31m208.3 MB/s\u001b[0m eta \u001b[36m0:00:00\u001b[0m\n",
      "\u001b[?25hDownloading python_multipart-0.0.20-py3-none-any.whl (24 kB)\n",
      "Downloading yarl-1.20.1-cp311-cp311-manylinux_2_17_x86_64.manylinux2014_x86_64.whl (348 kB)\n",
      "Downloading airportsdata-20250811-py3-none-any.whl (912 kB)\n",
      "\u001b[2K   \u001b[90m━━━━━━━━━━━━━━━━━━━━━━━━━━━━━━━━━━━━━━━\u001b[0m \u001b[32m912.7/912.7 kB\u001b[0m \u001b[31m166.9 MB/s\u001b[0m eta \u001b[36m0:00:00\u001b[0m\n",
      "\u001b[?25hDownloading astor-0.8.1-py2.py3-none-any.whl (27 kB)\n",
      "Downloading cupy_cuda12x-13.6.0-cp311-cp311-manylinux2014_x86_64.whl (113.0 MB)\n",
      "\u001b[2K   \u001b[90m━━━━━━━━━━━━━━━━━━━━━━━━━━━━━━━━━━━━━━━━\u001b[0m \u001b[32m113.0/113.0 MB\u001b[0m \u001b[31m55.9 MB/s\u001b[0m eta \u001b[36m0:00:00\u001b[0m00:01\u001b[0m00:01\u001b[0m\n",
      "\u001b[?25hDownloading dill-0.4.0-py3-none-any.whl (119 kB)\n",
      "Downloading diskcache-5.6.3-py3-none-any.whl (45 kB)\n",
      "Downloading dnspython-2.7.0-py3-none-any.whl (313 kB)\n",
      "Downloading fastapi_cloud_cli-0.1.5-py3-none-any.whl (18 kB)\n",
      "Downloading fastrlock-0.8.3-cp311-cp311-manylinux_2_5_x86_64.manylinux1_x86_64.manylinux_2_28_x86_64.whl (54 kB)\n",
      "Downloading httptools-0.6.4-cp311-cp311-manylinux_2_5_x86_64.manylinux1_x86_64.manylinux_2_17_x86_64.manylinux2014_x86_64.whl (459 kB)\n",
      "Downloading rich_toolkit-0.15.1-py3-none-any.whl (29 kB)\n",
      "Downloading typer-0.17.4-py3-none-any.whl (46 kB)\n",
      "Downloading uvloop-0.21.0-cp311-cp311-manylinux_2_17_x86_64.manylinux2014_x86_64.whl (4.0 MB)\n",
      "\u001b[2K   \u001b[90m━━━━━━━━━━━━━━━━━━━━━━━━━━━━━━━━━━━━━━━━\u001b[0m \u001b[32m4.0/4.0 MB\u001b[0m \u001b[31m146.3 MB/s\u001b[0m eta \u001b[36m0:00:00\u001b[0m\n",
      "\u001b[?25hDownloading websockets-15.0.1-cp311-cp311-manylinux_2_5_x86_64.manylinux1_x86_64.manylinux_2_17_x86_64.manylinux2014_x86_64.whl (182 kB)\n",
      "Downloading rich-14.1.0-py3-none-any.whl (243 kB)\n",
      "Downloading rignore-0.6.4-cp311-cp311-manylinux_2_17_x86_64.manylinux2014_x86_64.whl (950 kB)\n",
      "\u001b[2K   \u001b[90m━━━━━━━━━━━━━━━━━━━━━━━━━━━━━━━━━━━━━━━\u001b[0m \u001b[32m950.6/950.6 kB\u001b[0m \u001b[31m143.5 MB/s\u001b[0m eta \u001b[36m0:00:00\u001b[0m\n",
      "\u001b[?25hDownloading sentry_sdk-2.37.0-py2.py3-none-any.whl (368 kB)\n",
      "Downloading shellingham-1.5.4-py2.py3-none-any.whl (9.8 kB)\n",
      "Downloading markdown_it_py-4.0.0-py3-none-any.whl (87 kB)\n",
      "Downloading mdurl-0.1.2-py3-none-any.whl (10.0 kB)\n",
      "Installing collected packages: triton, py-cpuinfo, nvidia-cusparselt-cu12, fastrlock, blake3, websockets, uvloop, sympy, shellingham, sentry-sdk, sentencepiece, rignore, python-multipart, pycountry, protobuf, propcache, partial-json-parser, nvidia-nvtx-cu12, nvidia-nvjitlink-cu12, nvidia-nccl-cu12, nvidia-curand-cu12, nvidia-cufft-cu12, nvidia-cuda-runtime-cu12, nvidia-cuda-nvrtc-cu12, nvidia-cuda-cupti-cu12, nvidia-cublas-cu12, numpy, ninja, multidict, msgspec, msgpack, mdurl, llvmlite, lark, jinja2, interegular, httptools, frozenlist, einops, dnspython, diskcache, dill, cloudpickle, cachetools, astor, airportsdata, aiohappyeyeballs, yarl, watchfiles, tiktoken, scipy, opencv-python-headless, nvidia-cusparse-cu12, nvidia-cudnn-cu12, numba, markdown-it-py, gguf, email-validator, depyf, cupy-cuda12x, aiosignal, rich, pydantic-extra-types, prometheus-fastapi-instrumentator, nvidia-cusolver-cu12, lm-format-enforcer, aiohttp, typer, torch, rich-toolkit, ray, outlines_core, xgrammar, xformers, torchvision, torchaudio, outlines, mistral_common, fastapi-cloud-cli, fastapi-cli, compressed-tensors, vllm\n",
      "  Attempting uninstall: nvidia-cusparselt-cu12\n",
      "    Found existing installation: nvidia-cusparselt-cu12 0.6.3\n",
      "    Uninstalling nvidia-cusparselt-cu12-0.6.3:\n",
      "      Successfully uninstalled nvidia-cusparselt-cu12-0.6.3\n",
      "  Attempting uninstall: sympy\n",
      "    Found existing installation: sympy 1.13.3\n",
      "    Uninstalling sympy-1.13.3:\n",
      "      Successfully uninstalled sympy-1.13.3\n",
      "  Attempting uninstall: nvidia-nvtx-cu12\n",
      "    Found existing installation: nvidia-nvtx-cu12 12.8.55\n",
      "    Uninstalling nvidia-nvtx-cu12-12.8.55:\n",
      "      Successfully uninstalled nvidia-nvtx-cu12-12.8.55\n",
      "  Attempting uninstall: nvidia-nvjitlink-cu12\n",
      "    Found existing installation: nvidia-nvjitlink-cu12 12.8.61\n",
      "    Uninstalling nvidia-nvjitlink-cu12-12.8.61:\n",
      "      Successfully uninstalled nvidia-nvjitlink-cu12-12.8.61\n",
      "  Attempting uninstall: nvidia-nccl-cu12\n",
      "    Found existing installation: nvidia-nccl-cu12 2.25.1\n",
      "    Uninstalling nvidia-nccl-cu12-2.25.1:\n",
      "      Successfully uninstalled nvidia-nccl-cu12-2.25.1\n",
      "  Attempting uninstall: nvidia-curand-cu12\n",
      "    Found existing installation: nvidia-curand-cu12 10.3.9.55\n",
      "    Uninstalling nvidia-curand-cu12-10.3.9.55:\n",
      "      Successfully uninstalled nvidia-curand-cu12-10.3.9.55\n",
      "  Attempting uninstall: nvidia-cufft-cu12\n",
      "    Found existing installation: nvidia-cufft-cu12 11.3.3.41\n",
      "    Uninstalling nvidia-cufft-cu12-11.3.3.41:\n",
      "      Successfully uninstalled nvidia-cufft-cu12-11.3.3.41\n",
      "  Attempting uninstall: nvidia-cuda-runtime-cu12\n",
      "    Found existing installation: nvidia-cuda-runtime-cu12 12.8.57\n",
      "    Uninstalling nvidia-cuda-runtime-cu12-12.8.57:\n",
      "      Successfully uninstalled nvidia-cuda-runtime-cu12-12.8.57\n",
      "  Attempting uninstall: nvidia-cuda-nvrtc-cu12\n",
      "    Found existing installation: nvidia-cuda-nvrtc-cu12 12.8.61\n",
      "    Uninstalling nvidia-cuda-nvrtc-cu12-12.8.61:\n",
      "      Successfully uninstalled nvidia-cuda-nvrtc-cu12-12.8.61\n",
      "  Attempting uninstall: nvidia-cuda-cupti-cu12\n",
      "    Found existing installation: nvidia-cuda-cupti-cu12 12.8.57\n",
      "    Uninstalling nvidia-cuda-cupti-cu12-12.8.57:\n",
      "      Successfully uninstalled nvidia-cuda-cupti-cu12-12.8.57\n",
      "  Attempting uninstall: nvidia-cublas-cu12\n",
      "    Found existing installation: nvidia-cublas-cu12 12.8.3.14\n",
      "    Uninstalling nvidia-cublas-cu12-12.8.3.14:\n",
      "      Successfully uninstalled nvidia-cublas-cu12-12.8.3.14\n",
      "  Attempting uninstall: numpy\n",
      "    Found existing installation: numpy 2.1.2\n",
      "    Uninstalling numpy-2.1.2:\n",
      "      Successfully uninstalled numpy-2.1.2\n",
      "  Attempting uninstall: jinja2\n",
      "    Found existing installation: Jinja2 3.1.4\n",
      "    Uninstalling Jinja2-3.1.4:\n",
      "      Successfully uninstalled Jinja2-3.1.4\n",
      "  Attempting uninstall: nvidia-cusparse-cu12\n",
      "    Found existing installation: nvidia-cusparse-cu12 12.5.7.53\n",
      "    Uninstalling nvidia-cusparse-cu12-12.5.7.53:\n",
      "      Successfully uninstalled nvidia-cusparse-cu12-12.5.7.53\n",
      "  Attempting uninstall: nvidia-cudnn-cu12\n",
      "    Found existing installation: nvidia-cudnn-cu12 9.8.0.87\n",
      "    Uninstalling nvidia-cudnn-cu12-9.8.0.87:\n",
      "      Successfully uninstalled nvidia-cudnn-cu12-9.8.0.87\n",
      "  Attempting uninstall: nvidia-cusolver-cu12\n",
      "    Found existing installation: nvidia-cusolver-cu12 11.7.2.55\n",
      "    Uninstalling nvidia-cusolver-cu12-11.7.2.55:\n",
      "      Successfully uninstalled nvidia-cusolver-cu12-11.7.2.55\n",
      "  Attempting uninstall: torch\n",
      "    Found existing installation: torch 2.8.0.dev20250319+cu128\n",
      "    Uninstalling torch-2.8.0.dev20250319+cu128:\n",
      "      Successfully uninstalled torch-2.8.0.dev20250319+cu128\n",
      "  Attempting uninstall: torchvision\n",
      "    Found existing installation: torchvision 0.22.0.dev20250319+cu128\n",
      "    Uninstalling torchvision-0.22.0.dev20250319+cu128:\n",
      "      Successfully uninstalled torchvision-0.22.0.dev20250319+cu128\n",
      "  Attempting uninstall: torchaudio\n",
      "    Found existing installation: torchaudio 2.6.0.dev20250319+cu128\n",
      "    Uninstalling torchaudio-2.6.0.dev20250319+cu128:\n",
      "      Successfully uninstalled torchaudio-2.6.0.dev20250319+cu128\n",
      "Successfully installed aiohappyeyeballs-2.6.1 aiohttp-3.12.15 aiosignal-1.4.0 airportsdata-20250811 astor-0.8.1 blake3-1.0.5 cachetools-6.2.0 cloudpickle-3.1.1 compressed-tensors-0.9.2 cupy-cuda12x-13.6.0 depyf-0.18.0 dill-0.4.0 diskcache-5.6.3 dnspython-2.7.0 einops-0.8.1 email-validator-2.3.0 fastapi-cli-0.0.10 fastapi-cloud-cli-0.1.5 fastrlock-0.8.3 frozenlist-1.7.0 gguf-0.10.0 httptools-0.6.4 interegular-0.3.3 jinja2-3.1.6 lark-1.2.2 llvmlite-0.43.0 lm-format-enforcer-0.10.12 markdown-it-py-4.0.0 mdurl-0.1.2 mistral_common-1.8.4 msgpack-1.1.1 msgspec-0.19.0 multidict-6.6.4 ninja-1.13.0 numba-0.60.0 numpy-1.26.4 nvidia-cublas-cu12-12.4.5.8 nvidia-cuda-cupti-cu12-12.4.127 nvidia-cuda-nvrtc-cu12-12.4.127 nvidia-cuda-runtime-cu12-12.4.127 nvidia-cudnn-cu12-9.1.0.70 nvidia-cufft-cu12-11.2.1.3 nvidia-curand-cu12-10.3.5.147 nvidia-cusolver-cu12-11.6.1.9 nvidia-cusparse-cu12-12.3.1.170 nvidia-cusparselt-cu12-0.6.2 nvidia-nccl-cu12-2.21.5 nvidia-nvjitlink-cu12-12.4.127 nvidia-nvtx-cu12-12.4.127 opencv-python-headless-4.11.0.86 outlines-0.1.11 outlines_core-0.1.26 partial-json-parser-0.2.1.1.post6 prometheus-fastapi-instrumentator-7.1.0 propcache-0.3.2 protobuf-6.32.0 py-cpuinfo-9.0.0 pycountry-24.6.1 pydantic-extra-types-2.10.5 python-multipart-0.0.20 ray-2.49.1 rich-14.1.0 rich-toolkit-0.15.1 rignore-0.6.4 scipy-1.16.1 sentencepiece-0.2.1 sentry-sdk-2.37.0 shellingham-1.5.4 sympy-1.13.1 tiktoken-0.11.0 torch-2.6.0 torchaudio-2.6.0 torchvision-0.21.0 triton-3.2.0 typer-0.17.4 uvloop-0.21.0 vllm-0.8.1 watchfiles-1.1.0 websockets-15.0.1 xformers-0.0.29.post2 xgrammar-0.1.16 yarl-1.20.1\n",
      "\u001b[33mWARNING: Running pip as the 'root' user can result in broken permissions and conflicting behaviour with the system package manager, possibly rendering your system unusable. It is recommended to use a virtual environment instead: https://pip.pypa.io/warnings/venv. Use the --root-user-action option if you know what you are doing and want to suppress this warning.\u001b[0m\u001b[33m\n",
      "\u001b[0m\n",
      "\u001b[1m[\u001b[0m\u001b[34;49mnotice\u001b[0m\u001b[1;39;49m]\u001b[0m\u001b[39;49m A new release of pip is available: \u001b[0m\u001b[31;49m25.0.1\u001b[0m\u001b[39;49m -> \u001b[0m\u001b[32;49m25.2\u001b[0m\n",
      "\u001b[1m[\u001b[0m\u001b[34;49mnotice\u001b[0m\u001b[1;39;49m]\u001b[0m\u001b[39;49m To update, run: \u001b[0m\u001b[32;49mpython -m pip install --upgrade pip\u001b[0m\n"
     ]
    }
   ],
   "source": [
    "!pip install qwen-vl-utils\n",
    "!pip install transformers==4.49\n",
    "!pip install vllm==0.8.1\n",
    "!pip install datasets\n",
    "!pip install scikit-learn"
   ]
  },
  {
   "cell_type": "markdown",
   "id": "f8f34bac-aff4-4a04-bd59-f00f2b4d1063",
   "metadata": {},
   "source": [
    "Kernel > Restart Kernel"
   ]
  },
  {
   "cell_type": "markdown",
   "id": "86b92464-7a2c-41b3-9c10-66c41104b1f7",
   "metadata": {},
   "source": [
    "## 1. 모델 로드"
   ]
  },
  {
   "cell_type": "code",
   "execution_count": 3,
   "id": "7a7deebb-d325-406f-a925-cf781eceb9ae",
   "metadata": {
    "scrolled": true
   },
   "outputs": [
    {
     "name": "stdout",
     "output_type": "stream",
     "text": [
      "INFO 09-06 13:35:45 [__init__.py:256] Automatically detected platform cuda.\n"
     ]
    },
    {
     "data": {
      "application/vnd.jupyter.widget-view+json": {
       "model_id": "c964667a2d1f4ba990eb20f190e607b6",
       "version_major": 2,
       "version_minor": 0
      },
      "text/plain": [
       "config.json: 0.00B [00:00, ?B/s]"
      ]
     },
     "metadata": {},
     "output_type": "display_data"
    },
    {
     "data": {
      "application/vnd.jupyter.widget-view+json": {
       "model_id": "20ed63a0cdcb41e19d3f665e586b56da",
       "version_major": 2,
       "version_minor": 0
      },
      "text/plain": [
       "preprocessor_config.json:   0%|          | 0.00/567 [00:00<?, ?B/s]"
      ]
     },
     "metadata": {},
     "output_type": "display_data"
    },
    {
     "name": "stdout",
     "output_type": "stream",
     "text": [
      "INFO 09-06 13:35:48 [config.py:2595] Downcasting torch.float32 to torch.float16.\n",
      "INFO 09-06 13:35:53 [config.py:583] This model supports multiple tasks: {'classify', 'embed', 'generate', 'reward', 'score'}. Defaulting to 'generate'.\n",
      "INFO 09-06 13:35:53 [config.py:1693] Chunked prefill is enabled with max_num_batched_tokens=8192.\n"
     ]
    },
    {
     "data": {
      "application/vnd.jupyter.widget-view+json": {
       "model_id": "2825179404224b37969fecc69cc7f6d6",
       "version_major": 2,
       "version_minor": 0
      },
      "text/plain": [
       "tokenizer_config.json: 0.00B [00:00, ?B/s]"
      ]
     },
     "metadata": {},
     "output_type": "display_data"
    },
    {
     "data": {
      "application/vnd.jupyter.widget-view+json": {
       "model_id": "a6ae93ebca784a86ba565d7dc5e80765",
       "version_major": 2,
       "version_minor": 0
      },
      "text/plain": [
       "vocab.json: 0.00B [00:00, ?B/s]"
      ]
     },
     "metadata": {},
     "output_type": "display_data"
    },
    {
     "data": {
      "application/vnd.jupyter.widget-view+json": {
       "model_id": "0b442a15b4a74b22bf10b3eca9178f14",
       "version_major": 2,
       "version_minor": 0
      },
      "text/plain": [
       "merges.txt: 0.00B [00:00, ?B/s]"
      ]
     },
     "metadata": {},
     "output_type": "display_data"
    },
    {
     "data": {
      "application/vnd.jupyter.widget-view+json": {
       "model_id": "972718077d64497881656b6e6c23d797",
       "version_major": 2,
       "version_minor": 0
      },
      "text/plain": [
       "tokenizer.json:   0%|          | 0.00/11.4M [00:00<?, ?B/s]"
      ]
     },
     "metadata": {},
     "output_type": "display_data"
    },
    {
     "data": {
      "application/vnd.jupyter.widget-view+json": {
       "model_id": "41a008e04b9d4e2687cf032e348bb5e0",
       "version_major": 2,
       "version_minor": 0
      },
      "text/plain": [
       "added_tokens.json:   0%|          | 0.00/392 [00:00<?, ?B/s]"
      ]
     },
     "metadata": {},
     "output_type": "display_data"
    },
    {
     "data": {
      "application/vnd.jupyter.widget-view+json": {
       "model_id": "ccfcd721dfbe4377b7b4512776625d23",
       "version_major": 2,
       "version_minor": 0
      },
      "text/plain": [
       "special_tokens_map.json:   0%|          | 0.00/613 [00:00<?, ?B/s]"
      ]
     },
     "metadata": {},
     "output_type": "display_data"
    },
    {
     "data": {
      "application/vnd.jupyter.widget-view+json": {
       "model_id": "fa75e8375023487c976e58eda97e708e",
       "version_major": 2,
       "version_minor": 0
      },
      "text/plain": [
       "generation_config.json:   0%|          | 0.00/215 [00:00<?, ?B/s]"
      ]
     },
     "metadata": {},
     "output_type": "display_data"
    },
    {
     "name": "stdout",
     "output_type": "stream",
     "text": [
      "INFO 09-06 13:35:59 [core.py:53] Initializing a V1 LLM engine (v0.8.1) with config: model='iamjoon/Qwen2-VL-7B-Instruct-fashion-product-images-small-checkpoint-68', speculative_config=None, tokenizer='iamjoon/Qwen2-VL-7B-Instruct-fashion-product-images-small-checkpoint-68', skip_tokenizer_init=False, tokenizer_mode=auto, revision=None, override_neuron_config=None, tokenizer_revision=None, trust_remote_code=True, dtype=torch.float16, max_seq_len=32768, download_dir=None, load_format=LoadFormat.AUTO, tensor_parallel_size=1, pipeline_parallel_size=1, disable_custom_all_reduce=False, quantization=None, enforce_eager=False, kv_cache_dtype=auto,  device_config=cuda, decoding_config=DecodingConfig(guided_decoding_backend='xgrammar', reasoning_backend=None), observability_config=ObservabilityConfig(show_hidden_metrics=False, otlp_traces_endpoint=None, collect_model_forward_time=False, collect_model_execute_time=False), seed=None, served_model_name=iamjoon/Qwen2-VL-7B-Instruct-fashion-product-images-small-checkpoint-68, num_scheduler_steps=1, multi_step_stream_outputs=True, enable_prefix_caching=True, chunked_prefill_enabled=True, use_async_output_proc=True, disable_mm_preprocessor_cache=False, mm_processor_kwargs=None, pooler_config=None, compilation_config={\"level\":3,\"custom_ops\":[\"none\"],\"splitting_ops\":[\"vllm.unified_attention\",\"vllm.unified_attention_with_output\"],\"use_inductor\":true,\"compile_sizes\":[],\"use_cudagraph\":true,\"cudagraph_num_of_warmups\":1,\"cudagraph_capture_sizes\":[512,504,496,488,480,472,464,456,448,440,432,424,416,408,400,392,384,376,368,360,352,344,336,328,320,312,304,296,288,280,272,264,256,248,240,232,224,216,208,200,192,184,176,168,160,152,144,136,128,120,112,104,96,88,80,72,64,56,48,40,32,24,16,8,4,2,1],\"max_capture_size\":512}\n",
      "WARNING 09-06 13:35:59 [utils.py:2282] Methods determine_num_available_blocks,device_config,get_cache_block_size_bytes,initialize_cache not implemented in <vllm.v1.worker.gpu_worker.Worker object at 0x7c144f506250>\n",
      "INFO 09-06 13:36:00 [parallel_state.py:967] rank 0 in world size 1 is assigned as DP rank 0, PP rank 0, TP rank 0\n",
      "INFO 09-06 13:36:00 [cuda.py:215] Using Flash Attention backend on V1 engine.\n"
     ]
    },
    {
     "name": "stderr",
     "output_type": "stream",
     "text": [
      "Using a slow image processor as `use_fast` is unset and a slow processor was saved with this model. `use_fast=True` will be the default behavior in v4.48, even if the model was saved with a slow processor. This will result in minor differences in outputs. You'll still be able to use a slow processor with `use_fast=False`.\n"
     ]
    },
    {
     "name": "stdout",
     "output_type": "stream",
     "text": [
      "INFO 09-06 13:36:01 [gpu_model_runner.py:1164] Starting to load model iamjoon/Qwen2-VL-7B-Instruct-fashion-product-images-small-checkpoint-68...\n",
      "WARNING 09-06 13:36:01 [vision.py:97] Current `vllm-flash-attn` has a bug inside vision module, so we use xformers backend instead. You can run `pip install flash-attn` to use flash-attention backend.\n",
      "INFO 09-06 13:36:01 [config.py:3222] cudagraph sizes specified by model runner [1, 2, 4, 8, 16, 24, 32, 40, 48, 56, 64, 72, 80, 88, 96, 104, 112, 120, 128, 136, 144, 152, 160, 168, 176, 184, 192, 200, 208, 216, 224, 232, 240, 248, 256, 264, 272, 280, 288, 296, 304, 312, 320, 328, 336, 344, 352, 360, 368, 376, 384, 392, 400, 408, 416, 424, 432, 440, 448, 456, 464, 472, 480, 488, 496, 504, 512] is overridden by config [512, 384, 256, 128, 4, 2, 1, 392, 264, 136, 8, 400, 272, 144, 16, 408, 280, 152, 24, 416, 288, 160, 32, 424, 296, 168, 40, 432, 304, 176, 48, 440, 312, 184, 56, 448, 320, 192, 64, 456, 328, 200, 72, 464, 336, 208, 80, 472, 344, 216, 88, 120, 480, 352, 248, 224, 96, 488, 504, 360, 232, 104, 496, 368, 240, 112, 376]\n",
      "WARNING 09-06 13:36:01 [topk_topp_sampler.py:63] FlashInfer is not available. Falling back to the PyTorch-native implementation of top-p & top-k sampling. For the best performance, please install FlashInfer.\n",
      "INFO 09-06 13:36:01 [weight_utils.py:257] Using model weights format ['*.safetensors']\n"
     ]
    },
    {
     "data": {
      "application/vnd.jupyter.widget-view+json": {
       "model_id": "f05ceee3def84d67a27cffd7defc76d7",
       "version_major": 2,
       "version_minor": 0
      },
      "text/plain": [
       "model-00002-of-00018.safetensors:   0%|          | 0.00/2.18G [00:00<?, ?B/s]"
      ]
     },
     "metadata": {},
     "output_type": "display_data"
    },
    {
     "data": {
      "application/vnd.jupyter.widget-view+json": {
       "model_id": "ea231e4be40c4c6292174314b92af75e",
       "version_major": 2,
       "version_minor": 0
      },
      "text/plain": [
       "model-00008-of-00018.safetensors:   0%|          | 0.00/1.86G [00:00<?, ?B/s]"
      ]
     },
     "metadata": {},
     "output_type": "display_data"
    },
    {
     "data": {
      "application/vnd.jupyter.widget-view+json": {
       "model_id": "89dfa22318dd4e7dac774596bca89cd1",
       "version_major": 2,
       "version_minor": 0
      },
      "text/plain": [
       "model-00001-of-00018.safetensors:   0%|          | 0.00/1.99G [00:00<?, ?B/s]"
      ]
     },
     "metadata": {},
     "output_type": "display_data"
    },
    {
     "data": {
      "application/vnd.jupyter.widget-view+json": {
       "model_id": "6e74dcc203f9475a8b613539d5b47ea2",
       "version_major": 2,
       "version_minor": 0
      },
      "text/plain": [
       "model-00004-of-00018.safetensors:   0%|          | 0.00/1.86G [00:00<?, ?B/s]"
      ]
     },
     "metadata": {},
     "output_type": "display_data"
    },
    {
     "data": {
      "application/vnd.jupyter.widget-view+json": {
       "model_id": "ae4f42ef02b742bb9ae9280a66212322",
       "version_major": 2,
       "version_minor": 0
      },
      "text/plain": [
       "model-00003-of-00018.safetensors:   0%|          | 0.00/1.76G [00:00<?, ?B/s]"
      ]
     },
     "metadata": {},
     "output_type": "display_data"
    },
    {
     "data": {
      "application/vnd.jupyter.widget-view+json": {
       "model_id": "61f64bafb1784162bdfd0404bab2bf0c",
       "version_major": 2,
       "version_minor": 0
      },
      "text/plain": [
       "model-00006-of-00018.safetensors:   0%|          | 0.00/1.86G [00:00<?, ?B/s]"
      ]
     },
     "metadata": {},
     "output_type": "display_data"
    },
    {
     "data": {
      "application/vnd.jupyter.widget-view+json": {
       "model_id": "bf8676b6bf3d447f90aa2a1382caab27",
       "version_major": 2,
       "version_minor": 0
      },
      "text/plain": [
       "model-00007-of-00018.safetensors:   0%|          | 0.00/1.86G [00:00<?, ?B/s]"
      ]
     },
     "metadata": {},
     "output_type": "display_data"
    },
    {
     "data": {
      "application/vnd.jupyter.widget-view+json": {
       "model_id": "44ae507af00e40f686527522cebdc392",
       "version_major": 2,
       "version_minor": 0
      },
      "text/plain": [
       "model-00005-of-00018.safetensors:   0%|          | 0.00/1.86G [00:00<?, ?B/s]"
      ]
     },
     "metadata": {},
     "output_type": "display_data"
    },
    {
     "data": {
      "application/vnd.jupyter.widget-view+json": {
       "model_id": "65082a77b2464d449eda5881d01bfa67",
       "version_major": 2,
       "version_minor": 0
      },
      "text/plain": [
       "model-00009-of-00018.safetensors:   0%|          | 0.00/1.86G [00:00<?, ?B/s]"
      ]
     },
     "metadata": {},
     "output_type": "display_data"
    },
    {
     "data": {
      "application/vnd.jupyter.widget-view+json": {
       "model_id": "ed05f02ad5704577a1a33c1cdacd5c29",
       "version_major": 2,
       "version_minor": 0
      },
      "text/plain": [
       "model-00010-of-00018.safetensors:   0%|          | 0.00/1.86G [00:00<?, ?B/s]"
      ]
     },
     "metadata": {},
     "output_type": "display_data"
    },
    {
     "data": {
      "application/vnd.jupyter.widget-view+json": {
       "model_id": "0f286b2d19b34e95be78d461e419c569",
       "version_major": 2,
       "version_minor": 0
      },
      "text/plain": [
       "model-00011-of-00018.safetensors:   0%|          | 0.00/1.86G [00:00<?, ?B/s]"
      ]
     },
     "metadata": {},
     "output_type": "display_data"
    },
    {
     "data": {
      "application/vnd.jupyter.widget-view+json": {
       "model_id": "f30ba1a78e114ecf97b63426f53bd64f",
       "version_major": 2,
       "version_minor": 0
      },
      "text/plain": [
       "model-00012-of-00018.safetensors:   0%|          | 0.00/1.86G [00:00<?, ?B/s]"
      ]
     },
     "metadata": {},
     "output_type": "display_data"
    },
    {
     "data": {
      "application/vnd.jupyter.widget-view+json": {
       "model_id": "4735ce4c6b894149b28791060aaff12d",
       "version_major": 2,
       "version_minor": 0
      },
      "text/plain": [
       "model-00013-of-00018.safetensors:   0%|          | 0.00/1.86G [00:00<?, ?B/s]"
      ]
     },
     "metadata": {},
     "output_type": "display_data"
    },
    {
     "data": {
      "application/vnd.jupyter.widget-view+json": {
       "model_id": "fa29a77cbcf84939a2f6a808c8376856",
       "version_major": 2,
       "version_minor": 0
      },
      "text/plain": [
       "model-00014-of-00018.safetensors:   0%|          | 0.00/1.86G [00:00<?, ?B/s]"
      ]
     },
     "metadata": {},
     "output_type": "display_data"
    },
    {
     "data": {
      "application/vnd.jupyter.widget-view+json": {
       "model_id": "c7d1f5e534654c7abb5d17887d3478b8",
       "version_major": 2,
       "version_minor": 0
      },
      "text/plain": [
       "model-00016-of-00018.safetensors:   0%|          | 0.00/1.86G [00:00<?, ?B/s]"
      ]
     },
     "metadata": {},
     "output_type": "display_data"
    },
    {
     "data": {
      "application/vnd.jupyter.widget-view+json": {
       "model_id": "081259ba949c4b7ba4877b12beacf6b7",
       "version_major": 2,
       "version_minor": 0
      },
      "text/plain": [
       "model-00015-of-00018.safetensors:   0%|          | 0.00/1.86G [00:00<?, ?B/s]"
      ]
     },
     "metadata": {},
     "output_type": "display_data"
    },
    {
     "data": {
      "application/vnd.jupyter.widget-view+json": {
       "model_id": "bfa44c3972594c50ac2ab812bbbc1ba1",
       "version_major": 2,
       "version_minor": 0
      },
      "text/plain": [
       "model-00017-of-00018.safetensors:   0%|          | 0.00/2.18G [00:00<?, ?B/s]"
      ]
     },
     "metadata": {},
     "output_type": "display_data"
    },
    {
     "data": {
      "application/vnd.jupyter.widget-view+json": {
       "model_id": "9156a3c680db4cc48aa29c24e97a1cde",
       "version_major": 2,
       "version_minor": 0
      },
      "text/plain": [
       "model-00018-of-00018.safetensors:   0%|          | 0.00/815M [00:00<?, ?B/s]"
      ]
     },
     "metadata": {},
     "output_type": "display_data"
    },
    {
     "name": "stdout",
     "output_type": "stream",
     "text": [
      "INFO 09-06 13:36:30 [weight_utils.py:273] Time spent downloading weights for iamjoon/Qwen2-VL-7B-Instruct-fashion-product-images-small-checkpoint-68: 28.614180 seconds\n"
     ]
    },
    {
     "data": {
      "application/vnd.jupyter.widget-view+json": {
       "model_id": "2179688caf694e87a675e654b7f02542",
       "version_major": 2,
       "version_minor": 0
      },
      "text/plain": [
       "model.safetensors.index.json: 0.00B [00:00, ?B/s]"
      ]
     },
     "metadata": {},
     "output_type": "display_data"
    },
    {
     "data": {
      "application/vnd.jupyter.widget-view+json": {
       "model_id": "a8b62184c33647a3b34f8f52d41b2b33",
       "version_major": 2,
       "version_minor": 0
      },
      "text/plain": [
       "Loading safetensors checkpoint shards:   0% Completed | 0/18 [00:00<?, ?it/s]\n"
      ]
     },
     "metadata": {},
     "output_type": "display_data"
    },
    {
     "name": "stdout",
     "output_type": "stream",
     "text": [
      "INFO 09-06 13:36:39 [loader.py:429] Loading weights took 8.52 seconds\n",
      "INFO 09-06 13:36:39 [gpu_model_runner.py:1176] Model loading took 15.5313 GB and 38.186820 seconds\n",
      "INFO 09-06 13:36:39 [gpu_model_runner.py:1421] Encoder cache will be initialized with a budget of 16384 tokens, and profiled with 1 image items of the maximum feature size.\n"
     ]
    },
    {
     "data": {
      "application/vnd.jupyter.widget-view+json": {
       "model_id": "16fc20970bb24d6480014904c4b99581",
       "version_major": 2,
       "version_minor": 0
      },
      "text/plain": [
       "chat_template.json: 0.00B [00:00, ?B/s]"
      ]
     },
     "metadata": {},
     "output_type": "display_data"
    },
    {
     "name": "stderr",
     "output_type": "stream",
     "text": [
      "Token indices sequence length is longer than the specified maximum sequence length for this model (327680 > 32768). Running this sequence through the model will result in indexing errors\n"
     ]
    },
    {
     "name": "stdout",
     "output_type": "stream",
     "text": [
      "INFO 09-06 13:37:41 [backends.py:409] Using cache directory: /root/.cache/vllm/torch_compile_cache/06ec247ecf/rank_0_0 for vLLM's torch.compile\n",
      "INFO 09-06 13:37:41 [backends.py:419] Dynamo bytecode transform time: 4.27 s\n",
      "INFO 09-06 13:37:43 [backends.py:132] Cache the graph of shape None for later use\n",
      "INFO 09-06 13:37:58 [backends.py:144] Compiling a graph for general shape takes 16.24 s\n",
      "INFO 09-06 13:38:14 [monitor.py:33] torch.compile takes 20.51 s in total\n",
      "INFO 09-06 13:38:15 [kv_cache_utils.py:537] GPU KV cache size: 910,736 tokens\n",
      "INFO 09-06 13:38:15 [kv_cache_utils.py:540] Maximum concurrency for 32,768 tokens per request: 27.79x\n",
      "INFO 09-06 13:38:38 [gpu_model_runner.py:1499] Graph capturing finished in 23 secs, took 0.49 GiB\n",
      "INFO 09-06 13:38:38 [core.py:138] init engine (profile, create kv cache, warmup model) took 118.84 seconds\n"
     ]
    }
   ],
   "source": [
    "from transformers import AutoProcessor\n",
    "from vllm import LLM, SamplingParams\n",
    "from qwen_vl_utils import process_vision_info\n",
    "\n",
    "MODEL_PATH = \"iamjoon/Qwen2-VL-7B-Instruct-fashion-product-images-small-checkpoint-68\"\n",
    "\n",
    "llm = LLM(\n",
    "    model=MODEL_PATH,\n",
    "    trust_remote_code=True,\n",
    "    limit_mm_per_prompt={\"image\": 10, \"video\": 10},\n",
    ")"
   ]
  },
  {
   "cell_type": "markdown",
   "id": "ada930f4-0b2a-420b-a8bb-30248f9233ea",
   "metadata": {},
   "source": [
    "## 2. 테스트 데이터 로드 및 전처리"
   ]
  },
  {
   "cell_type": "code",
   "execution_count": 8,
   "id": "6ca0e737-519e-4254-929e-bff70d550c97",
   "metadata": {},
   "outputs": [],
   "source": [
    "import io\n",
    "import json\n",
    "from PIL import Image\n",
    "from datasets import load_dataset\n",
    "from sklearn.model_selection import train_test_split"
   ]
  },
  {
   "cell_type": "code",
   "execution_count": 9,
   "id": "5bee70a2-f683-496f-8db7-5eb5837ec16a",
   "metadata": {},
   "outputs": [],
   "source": [
    "# 시스템(assistant)에게 주어진 역할\n",
    "system_message = \"당신은 이미지와 제품명(name)으로부터 패션/스타일 정보를 추론하는 분류 모델입니다.\"\n",
    "\n",
    "# 실제로 사용자 입력 -> 모델이 답해야 하는 프롬프트\n",
    "prompt = \"\"\"입력 정보:\n",
    "- name: {name}\n",
    "- image: [image]\n",
    "\n",
    "위 정보를 바탕으로, 아래 7가지 key에 대한 값을 JSON 형태로 추론해 주세요:\n",
    "1) gender\n",
    "2) masterCategory\n",
    "3) subCategory\n",
    "4) season\n",
    "5) usage\n",
    "6) baseColour\n",
    "7) articleType\n",
    "\n",
    "출력 시 **아래 JSON 예시 형태**를 반드시 지키세요:\n",
    "{{\n",
    "  \"gender\": \"예시값\",\n",
    "  \"masterCategory\": \"예시값\",\n",
    "  \"subCategory\": \"예시값\",\n",
    "  \"season\": \"예시값\",\n",
    "  \"usage\": \"예시값\",\n",
    "  \"baseColour\": \"예시값\",\n",
    "  \"articleType\": \"예시값\"\n",
    "}}\n",
    "\n",
    "# 예시\n",
    "{{\n",
    "  \"gender\": \"Men\",\n",
    "  \"masterCategory\": \"Accessories\",\n",
    "  \"subCategory\": \"Eyewear\",\n",
    "  \"season\": \"Winter\",\n",
    "  \"usage\": \"Casual\",\n",
    "  \"baseColour\": \"Blue\",\n",
    "  \"articleType\": \"Sunglasses\"\n",
    "}}\n",
    "\n",
    "# 주의\n",
    "- 7개 항목 이외의 정보(텍스트, 문장 등)는 절대 포함하지 마세요.\n",
    "\"\"\""
   ]
  },
  {
   "cell_type": "code",
   "execution_count": 10,
   "id": "30080e5d-a5a4-423f-9dab-a1e58dfd1511",
   "metadata": {},
   "outputs": [],
   "source": [
    "def combine_cols_to_label(example):\n",
    "    # 실제 컬럼명에 맞게 수정\n",
    "    label_dict = {\n",
    "        \"gender\": example[\"gender\"],\n",
    "        \"masterCategory\": example[\"masterCategory\"],\n",
    "        \"subCategory\": example[\"subCategory\"],\n",
    "        \"season\": example[\"season\"],\n",
    "        \"usage\": example[\"usage\"],\n",
    "        \"baseColour\": example[\"baseColour\"],\n",
    "        \"articleType\": example[\"articleType\"],\n",
    "    }\n",
    "    example[\"label\"] = json.dumps(label_dict, ensure_ascii=False)\n",
    "    return example\n",
    "\n",
    "def format_data(sample):\n",
    "   # Image.Image를 PngImageFile로 변환\n",
    "   buffer = io.BytesIO()\n",
    "   sample[\"image\"].save(buffer, format='PNG')\n",
    "   buffer.seek(0)\n",
    "   image = Image.open(buffer)\n",
    "   \n",
    "   return {\n",
    "       \"messages\": [\n",
    "           {\n",
    "               \"role\": \"system\",\n",
    "               \"content\": [\n",
    "                   {\n",
    "                       \"type\": \"text\",\n",
    "                       \"text\": system_message\n",
    "                   }\n",
    "               ],\n",
    "           },\n",
    "           {\n",
    "               \"role\": \"user\",\n",
    "               \"content\": [\n",
    "                   {\n",
    "                       \"type\": \"text\",\n",
    "                       \"text\": prompt.format(name=sample[\"productDisplayName\"]),\n",
    "                   },\n",
    "                   {\n",
    "                       \"type\": \"image\",\n",
    "                       \"image\": image,\n",
    "                   }\n",
    "               ],\n",
    "           },\n",
    "           {\n",
    "               \"role\": \"assistant\",\n",
    "               \"content\": [\n",
    "                   {\n",
    "                       \"type\": \"text\",\n",
    "                       \"text\": sample[\"label\"],\n",
    "                   }\n",
    "               ],\n",
    "           },\n",
    "       ],\n",
    "   }"
   ]
  },
  {
   "cell_type": "code",
   "execution_count": 11,
   "id": "90c72744-ccd6-4039-947a-832044cc8845",
   "metadata": {},
   "outputs": [
    {
     "data": {
      "application/vnd.jupyter.widget-view+json": {
       "model_id": "40ebf3aaeff44869ac4de12e2673acad",
       "version_major": 2,
       "version_minor": 0
      },
      "text/plain": [
       "README.md:   0%|          | 0.00/867 [00:00<?, ?B/s]"
      ]
     },
     "metadata": {},
     "output_type": "display_data"
    },
    {
     "data": {
      "application/vnd.jupyter.widget-view+json": {
       "model_id": "1a7f76ba17c14fba893935d6380ec861",
       "version_major": 2,
       "version_minor": 0
      },
      "text/plain": [
       "data/train-00000-of-00002-6cff4c59f91661(…):   0%|          | 0.00/136M [00:00<?, ?B/s]"
      ]
     },
     "metadata": {},
     "output_type": "display_data"
    },
    {
     "data": {
      "application/vnd.jupyter.widget-view+json": {
       "model_id": "a52b3511381a45519b06bdd8a7d18e3b",
       "version_major": 2,
       "version_minor": 0
      },
      "text/plain": [
       "data/train-00001-of-00002-bb459e5ac5f01e(…):   0%|          | 0.00/135M [00:00<?, ?B/s]"
      ]
     },
     "metadata": {},
     "output_type": "display_data"
    },
    {
     "data": {
      "application/vnd.jupyter.widget-view+json": {
       "model_id": "a2458a7556604c5f9f01a425e34fcd99",
       "version_major": 2,
       "version_minor": 0
      },
      "text/plain": [
       "Generating train split:   0%|          | 0/44072 [00:00<?, ? examples/s]"
      ]
     },
     "metadata": {},
     "output_type": "display_data"
    },
    {
     "data": {
      "application/vnd.jupyter.widget-view+json": {
       "model_id": "c230fc5292d647cc8dec37e5a7f8245e",
       "version_major": 2,
       "version_minor": 0
      },
      "text/plain": [
       "Map:   0%|          | 0/44072 [00:00<?, ? examples/s]"
      ]
     },
     "metadata": {},
     "output_type": "display_data"
    }
   ],
   "source": [
    "dataset = load_dataset(\"ashraq/fashion-product-images-small\", split=\"train\")\n",
    "dataset_add_label = dataset.map(combine_cols_to_label)\n",
    "dataset_add_label = dataset_add_label.shuffle(seed=4242)"
   ]
  },
  {
   "cell_type": "code",
   "execution_count": 12,
   "id": "02a73f94-fc3f-446d-92eb-6162305d055f",
   "metadata": {},
   "outputs": [],
   "source": [
    "formatted_dataset = [format_data(row) for row in dataset_add_label]"
   ]
  },
  {
   "cell_type": "code",
   "execution_count": 13,
   "id": "e55d02aa-2da0-4618-a1cd-f0af4f9bd2f0",
   "metadata": {},
   "outputs": [],
   "source": [
    "# test_size=0.9로 설정하여 전체 데이터의 90%를 테스트 세트로 분리\n",
    "train_dataset, test_dataset = train_test_split(formatted_dataset,\n",
    "                                             test_size=0.9,\n",
    "                                             random_state=42)"
   ]
  },
  {
   "cell_type": "markdown",
   "id": "aae3a61c-a53c-401c-9878-791434d709d5",
   "metadata": {},
   "source": [
    "## 3. 임의의 샘플 한 개 인퍼런스"
   ]
  },
  {
   "cell_type": "code",
   "execution_count": 14,
   "id": "fd397864-04af-4a82-951d-3fe5590ca9f7",
   "metadata": {},
   "outputs": [],
   "source": [
    "from IPython.display import display"
   ]
  },
  {
   "cell_type": "code",
   "execution_count": 15,
   "id": "3d38bbde-5592-4b62-a9e0-fdedc655b094",
   "metadata": {},
   "outputs": [
    {
     "data": {
      "application/vnd.jupyter.widget-view+json": {
       "model_id": "629f149dd49746cbbdf20253187441f0",
       "version_major": 2,
       "version_minor": 0
      },
      "text/plain": [
       "preprocessor_config.json:   0%|          | 0.00/347 [00:00<?, ?B/s]"
      ]
     },
     "metadata": {},
     "output_type": "display_data"
    },
    {
     "name": "stderr",
     "output_type": "stream",
     "text": [
      "Using a slow image processor as `use_fast` is unset and a slow processor was saved with this model. `use_fast=True` will be the default behavior in v4.48, even if the model was saved with a slow processor. This will result in minor differences in outputs. You'll still be able to use a slow processor with `use_fast=False`.\n"
     ]
    },
    {
     "data": {
      "application/vnd.jupyter.widget-view+json": {
       "model_id": "1e762aaae75d4446a493925684dfaf58",
       "version_major": 2,
       "version_minor": 0
      },
      "text/plain": [
       "tokenizer_config.json: 0.00B [00:00, ?B/s]"
      ]
     },
     "metadata": {},
     "output_type": "display_data"
    },
    {
     "data": {
      "application/vnd.jupyter.widget-view+json": {
       "model_id": "d8745417d1be401788d0a32a8ce21cb2",
       "version_major": 2,
       "version_minor": 0
      },
      "text/plain": [
       "vocab.json: 0.00B [00:00, ?B/s]"
      ]
     },
     "metadata": {},
     "output_type": "display_data"
    },
    {
     "data": {
      "application/vnd.jupyter.widget-view+json": {
       "model_id": "07f0048fb09443169662ab139c0b7109",
       "version_major": 2,
       "version_minor": 0
      },
      "text/plain": [
       "merges.txt: 0.00B [00:00, ?B/s]"
      ]
     },
     "metadata": {},
     "output_type": "display_data"
    },
    {
     "data": {
      "application/vnd.jupyter.widget-view+json": {
       "model_id": "d0a792ad3fcf4e97af2cf6f7d7a00387",
       "version_major": 2,
       "version_minor": 0
      },
      "text/plain": [
       "tokenizer.json: 0.00B [00:00, ?B/s]"
      ]
     },
     "metadata": {},
     "output_type": "display_data"
    },
    {
     "data": {
      "application/vnd.jupyter.widget-view+json": {
       "model_id": "8883a9573e724a5caa4de605cee2a571",
       "version_major": 2,
       "version_minor": 0
      },
      "text/plain": [
       "chat_template.json: 0.00B [00:00, ?B/s]"
      ]
     },
     "metadata": {},
     "output_type": "display_data"
    }
   ],
   "source": [
    "model_id = \"Qwen/Qwen2-VL-7B-Instruct\"\n",
    "processor = AutoProcessor.from_pretrained(model_id)"
   ]
  },
  {
   "cell_type": "code",
   "execution_count": 16,
   "id": "c0c6d163-78d2-407a-9923-b603e23950bc",
   "metadata": {},
   "outputs": [],
   "source": [
    "sampling_params = SamplingParams(\n",
    "    temperature=0.1,\n",
    "    top_p=0.001,\n",
    "    repetition_penalty=1.05,\n",
    "    max_tokens=256,\n",
    "    stop_token_ids=[],\n",
    ")"
   ]
  },
  {
   "cell_type": "markdown",
   "id": "a89ae6c1-f399-42ed-877e-f894c53d463b",
   "metadata": {},
   "source": [
    "테스트 데이터 32번에 대해서 모델의 예측을 얻어봅시다."
   ]
  },
  {
   "cell_type": "code",
   "execution_count": 17,
   "id": "f096fbdd-56d8-4ab6-9dd3-cd960120d7b6",
   "metadata": {},
   "outputs": [],
   "source": [
    "test_sample = test_dataset[32][\"messages\"]"
   ]
  },
  {
   "cell_type": "code",
   "execution_count": 18,
   "id": "99bd77ca-5f8f-4455-93f0-2a7ba7f9fc32",
   "metadata": {},
   "outputs": [],
   "source": [
    "test_sample_prompt = processor.apply_chat_template(\n",
    "    test_sample,\n",
    "    tokenize=False,\n",
    "    add_generation_prompt=False,\n",
    ")"
   ]
  },
  {
   "cell_type": "code",
   "execution_count": 19,
   "id": "a0c547d3-892b-459e-995e-ff493c6af8b6",
   "metadata": {},
   "outputs": [],
   "source": [
    "def split_input_and_label(prompt):\n",
    "    input = prompt.split('<|im_start|>assistant')[0] + '<|im_start|>assistant'\n",
    "    label = prompt.split('<|im_start|>assistant')[1]\n",
    "    return input, label"
   ]
  },
  {
   "cell_type": "code",
   "execution_count": 20,
   "id": "9d2e356f-dd90-47ac-a972-5cccd5cd8fe6",
   "metadata": {},
   "outputs": [],
   "source": [
    "test_sample_input, test_sample_label = split_input_and_label(test_sample_prompt)"
   ]
  },
  {
   "cell_type": "code",
   "execution_count": 21,
   "id": "c43db853-deeb-4658-929d-cccd17ff530a",
   "metadata": {},
   "outputs": [
    {
     "name": "stdout",
     "output_type": "stream",
     "text": [
      "<|im_start|>system\n",
      "당신은 이미지와 제품명(name)으로부터 패션/스타일 정보를 추론하는 분류 모델입니다.<|im_end|>\n",
      "<|im_start|>user\n",
      "입력 정보:\n",
      "- name: Colorbar Exclusive Nail Lacquer 19\n",
      "- image: [image]\n",
      "\n",
      "위 정보를 바탕으로, 아래 7가지 key에 대한 값을 JSON 형태로 추론해 주세요:\n",
      "1) gender\n",
      "2) masterCategory\n",
      "3) subCategory\n",
      "4) season\n",
      "5) usage\n",
      "6) baseColour\n",
      "7) articleType\n",
      "\n",
      "출력 시 **아래 JSON 예시 형태**를 반드시 지키세요:\n",
      "{\n",
      "  \"gender\": \"예시값\",\n",
      "  \"masterCategory\": \"예시값\",\n",
      "  \"subCategory\": \"예시값\",\n",
      "  \"season\": \"예시값\",\n",
      "  \"usage\": \"예시값\",\n",
      "  \"baseColour\": \"예시값\",\n",
      "  \"articleType\": \"예시값\"\n",
      "}\n",
      "\n",
      "# 예시\n",
      "{\n",
      "  \"gender\": \"Men\",\n",
      "  \"masterCategory\": \"Accessories\",\n",
      "  \"subCategory\": \"Eyewear\",\n",
      "  \"season\": \"Winter\",\n",
      "  \"usage\": \"Casual\",\n",
      "  \"baseColour\": \"Blue\",\n",
      "  \"articleType\": \"Sunglasses\"\n",
      "}\n",
      "\n",
      "# 주의\n",
      "- 7개 항목 이외의 정보(텍스트, 문장 등)는 절대 포함하지 마세요.\n",
      "<|vision_start|><|image_pad|><|vision_end|><|im_end|>\n",
      "<|im_start|>assistant\n"
     ]
    }
   ],
   "source": [
    "print(test_sample_input)"
   ]
  },
  {
   "cell_type": "code",
   "execution_count": 22,
   "id": "1f71b99e-e748-4a36-9ad9-8e80ae34f45d",
   "metadata": {},
   "outputs": [
    {
     "name": "stdout",
     "output_type": "stream",
     "text": [
      "\n",
      "{\"gender\": \"Women\", \"masterCategory\": \"Personal Care\", \"subCategory\": \"Nails\", \"season\": \"Spring\", \"usage\": \"Casual\", \"baseColour\": \"Blue\", \"articleType\": \"Nail Polish\"}<|im_end|>\n",
      "\n"
     ]
    }
   ],
   "source": [
    "print(test_sample_label)"
   ]
  },
  {
   "cell_type": "code",
   "execution_count": 23,
   "id": "e5f97a56-ad7c-4a08-81ac-dbcf28ae8270",
   "metadata": {},
   "outputs": [],
   "source": [
    "# 이미지만 따로 전처리\n",
    "test_sample_image_inputs, test_sample_video_inputs = process_vision_info(test_sample)"
   ]
  },
  {
   "cell_type": "code",
   "execution_count": 24,
   "id": "8fc85a28-edd0-4eda-8265-41a961a6699f",
   "metadata": {},
   "outputs": [
    {
     "data": {
      "text/plain": [
       "[<PIL.Image.Image image mode=RGB size=56x84>]"
      ]
     },
     "execution_count": 24,
     "metadata": {},
     "output_type": "execute_result"
    }
   ],
   "source": [
    "test_sample_image_inputs"
   ]
  },
  {
   "cell_type": "code",
   "execution_count": 25,
   "id": "8b728b45-3eb2-4d43-af55-0d8e71b79bf9",
   "metadata": {},
   "outputs": [
    {
     "data": {
      "image/jpeg": "[encoded data removed]",
      "image/png": "[encoded data removed]",
      "text/plain": [
       "<PIL.Image.Image image mode=RGB size=56x84>"
      ]
     },
     "metadata": {},
     "output_type": "display_data"
    }
   ],
   "source": [
    "display(test_sample_image_inputs[0])"
   ]
  },
  {
   "cell_type": "code",
   "execution_count": 31,
   "id": "e2ce4005-6f77-44f2-ac42-c98c90238b5d",
   "metadata": {},
   "outputs": [],
   "source": [
    "image_inputs, video_inputs = process_vision_info(test_sample)"
   ]
  },
  {
   "cell_type": "code",
   "execution_count": 32,
   "id": "3917ee00-37a3-485b-bff9-d0070f975184",
   "metadata": {},
   "outputs": [],
   "source": [
    "mm_data = {}\n",
    "if image_inputs is not None:\n",
    "    mm_data[\"image\"] = image_inputs\n",
    "if video_inputs is not None:\n",
    "    mm_data[\"video\"] = video_inputs\n",
    "\n",
    "llm_inputs = {\n",
    "    \"prompt\": test_sample_input,\n",
    "    \"multi_modal_data\": mm_data,\n",
    "}"
   ]
  },
  {
   "cell_type": "code",
   "execution_count": 33,
   "id": "fc0891de-d06f-43bf-9e2e-d774cb795d71",
   "metadata": {},
   "outputs": [
    {
     "name": "stderr",
     "output_type": "stream",
     "text": [
      "Processed prompts: 100%|██████████| 1/1 [00:00<00:00,  1.36it/s, est. speed input: 421.51 toks/s, output: 72.06 toks/s]"
     ]
    },
    {
     "name": "stdout",
     "output_type": "stream",
     "text": [
      "모델의 예측:\n",
      "{\"gender\": \"Women\", \"masterCategory\": \"Personal Care\", \"subCategory\": \"Nails\", \"season\": \"Spring\", \"usage\": \"Casual\", \"baseColour\": \"Blue\", \"articleType\": \"Nail Polish\"}\n",
      "레이블:\n",
      "{\"gender\": \"Women\", \"masterCategory\": \"Personal Care\", \"subCategory\": \"Nails\", \"season\": \"Spring\", \"usage\": \"Casual\", \"baseColour\": \"Blue\", \"articleType\": \"Nail Polish\"}<|im_end|>\n"
     ]
    },
    {
     "name": "stderr",
     "output_type": "stream",
     "text": [
      "\n"
     ]
    }
   ],
   "source": [
    "outputs = llm.generate([llm_inputs], sampling_params=sampling_params)\n",
    "generated_text = outputs[0].outputs[0].text\n",
    "\n",
    "print('모델의 예측:')\n",
    "print(generated_text.strip())\n",
    "\n",
    "print('레이블:')\n",
    "print(test_sample_label.strip())"
   ]
  },
  {
   "cell_type": "markdown",
   "id": "2484a01e-6802-4a43-b153-7de1358f6837",
   "metadata": {},
   "source": [
    "## 4. 다수의 데이터 호출"
   ]
  },
  {
   "cell_type": "code",
   "execution_count": 34,
   "id": "60539dd1-e32f-4b45-92d6-1d8c073aaf7d",
   "metadata": {},
   "outputs": [
    {
     "name": "stdout",
     "output_type": "stream",
     "text": [
      "배치 인퍼런스 시작...\n"
     ]
    },
    {
     "name": "stderr",
     "output_type": "stream",
     "text": [
      "Processed prompts: 100%|██████████| 50/50 [00:00<00:00, 50.18it/s, est. speed input: 15541.59 toks/s, output: 2651.08 toks/s]"
     ]
    },
    {
     "name": "stdout",
     "output_type": "stream",
     "text": [
      "\n",
      "=== 배치 인퍼런스 결과 ===\n",
      "\n",
      "--- 샘플 1 ---\n",
      "모델의 예측: {\"gender\": \"Women\", \"masterCategory\": \"Apparel\", \"subCategory\": \"Dress\", \"season\": \"Summer\", \"usage\": \"Casual\", \"baseColour\": \"Beige\", \"articleType\": \"Dresses\"}\n",
      "레이블: {\"gender\": \"Women\", \"masterCategory\": \"Apparel\", \"subCategory\": \"Dress\", \"season\": \"Winter\", \"usage\": \"Casual\", \"baseColour\": \"Beige\", \"articleType\": \"Dresses\"}<|im_end|>\n",
      "--------------------------------------------------\n",
      "\n",
      "--- 샘플 2 ---\n",
      "모델의 예측: {\"gender\": \"Women\", \"masterCategory\": \"Accessories\", \"subCategory\": \"Bags\", \"season\": \"Summer\", \"usage\": \"Casual\", \"baseColour\": \"Copper\", \"articleType\": \"Clutches\"}\n",
      "레이블: {\"gender\": \"Women\", \"masterCategory\": \"Accessories\", \"subCategory\": \"Bags\", \"season\": \"Summer\", \"usage\": \"Casual\", \"baseColour\": \"Copper\", \"articleType\": \"Clutches\"}<|im_end|>\n",
      "--------------------------------------------------\n",
      "\n",
      "--- 샘플 3 ---\n",
      "모델의 예측: {\"gender\": \"Men\", \"masterCategory\": \"Apparel\", \"subCategory\": \"Topwear\", \"season\": \"Summer\", \"usage\": \"Casual\", \"baseColour\": \"Blue\", \"articleType\": \"Tshirts\"}\n",
      "레이블: {\"gender\": \"Men\", \"masterCategory\": \"Apparel\", \"subCategory\": \"Topwear\", \"season\": \"Summer\", \"usage\": \"Casual\", \"baseColour\": \"Blue\", \"articleType\": \"Tshirts\"}<|im_end|>\n",
      "--------------------------------------------------\n",
      "\n",
      "--- 샘플 4 ---\n",
      "모델의 예측: {\"gender\": \"Women\", \"masterCategory\": \"Accessories\", \"subCategory\": \"Jewellery\", \"season\": \"Summer\", \"usage\": \"Casual\", \"baseColour\": \"Silver\", \"articleType\": \"Pendant\"}\n",
      "레이블: {\"gender\": \"Women\", \"masterCategory\": \"Accessories\", \"subCategory\": \"Jewellery\", \"season\": \"Summer\", \"usage\": \"Casual\", \"baseColour\": \"Silver\", \"articleType\": \"Pendant\"}<|im_end|>\n",
      "--------------------------------------------------\n",
      "\n",
      "--- 샘플 5 ---\n",
      "모델의 예측: {\"gender\": \"Men\", \"masterCategory\": \"Apparel\", \"subCategory\": \"Topwear\", \"season\": \"Summer\", \"usage\": \"Casual\", \"baseColour\": \"Black\", \"articleType\": \"Tshirts\"}\n",
      "레이블: {\"gender\": \"Men\", \"masterCategory\": \"Apparel\", \"subCategory\": \"Topwear\", \"season\": \"Summer\", \"usage\": \"Casual\", \"baseColour\": \"Black\", \"articleType\": \"Tshirts\"}<|im_end|>\n",
      "--------------------------------------------------\n",
      "\n",
      "--- 샘플 6 ---\n",
      "모델의 예측: {\"gender\": \"Men\", \"masterCategory\": \"Apparel\", \"subCategory\": \"Topwear\", \"season\": \"Fall\", \"usage\": \"Casual\", \"baseColour\": \"Red\", \"articleType\": \"Tshirts\"}\n",
      "레이블: {\"gender\": \"Men\", \"masterCategory\": \"Apparel\", \"subCategory\": \"Topwear\", \"season\": \"Fall\", \"usage\": \"Casual\", \"baseColour\": \"Red\", \"articleType\": \"Tshirts\"}<|im_end|>\n",
      "--------------------------------------------------\n",
      "\n",
      "--- 샘플 7 ---\n",
      "모델의 예측: {\"gender\": \"Women\", \"masterCategory\": \"Accessories\", \"subCategory\": \"Bags\", \"season\": \"Summer\", \"usage\": \"Casual\", \"baseColour\": \"Black\", \"articleType\": \"Handbags\"}\n",
      "레이블: {\"gender\": \"Women\", \"masterCategory\": \"Accessories\", \"subCategory\": \"Bags\", \"season\": \"Winter\", \"usage\": \"Casual\", \"baseColour\": \"Black\", \"articleType\": \"Handbags\"}<|im_end|>\n",
      "--------------------------------------------------\n",
      "\n",
      "--- 샘플 8 ---\n",
      "모델의 예측: {\"gender\": \"Women\", \"masterCategory\": \"Footwear\", \"subCategory\": \"Shoes\", \"season\": \"Fall\", \"usage\": \"Casual\", \"baseColour\": \"White\", \"articleType\": \"Casual Shoes\"}\n",
      "레이블: {\"gender\": \"Women\", \"masterCategory\": \"Footwear\", \"subCategory\": \"Shoes\", \"season\": \"Fall\", \"usage\": \"Casual\", \"baseColour\": \"White\", \"articleType\": \"Casual Shoes\"}<|im_end|>\n",
      "--------------------------------------------------\n",
      "\n",
      "--- 샘플 9 ---\n",
      "모델의 예측: {\"gender\": \"Unisex\", \"masterCategory\": \"Footwear\", \"subCategory\": \"Flip Flops\", \"season\": \"Summer\", \"usage\": \"Casual\", \"baseColour\": \"Black\", \"articleType\": \"Flip Flops\"}\n",
      "레이블: {\"gender\": \"Unisex\", \"masterCategory\": \"Footwear\", \"subCategory\": \"Flip Flops\", \"season\": \"Summer\", \"usage\": \"Casual\", \"baseColour\": \"Black\", \"articleType\": \"Flip Flops\"}<|im_end|>\n",
      "--------------------------------------------------\n",
      "\n",
      "--- 샘플 10 ---\n",
      "모델의 예측: {\"gender\": \"Women\", \"masterCategory\": \"Accessories\", \"subCategory\": \"Watches\", \"season\": \"Winter\", \"usage\": \"Casual\", \"baseColour\": \"Steel\", \"articleType\": \"Watches\"}\n",
      "레이블: {\"gender\": \"Women\", \"masterCategory\": \"Accessories\", \"subCategory\": \"Watches\", \"season\": \"Winter\", \"usage\": \"Casual\", \"baseColour\": \"Black\", \"articleType\": \"Watches\"}<|im_end|>\n",
      "--------------------------------------------------\n",
      "\n",
      "--- 샘플 11 ---\n",
      "모델의 예측: {\"gender\": \"Unisex\", \"masterCategory\": \"Apparel\", \"subCategory\": \"Topwear\", \"season\": \"Fall\", \"usage\": \"Sports\", \"baseColour\": \"Navy Blue\", \"articleType\": \"Tshirts\"}\n",
      "레이블: {\"gender\": \"Unisex\", \"masterCategory\": \"Apparel\", \"subCategory\": \"Topwear\", \"season\": \"Summer\", \"usage\": \"Sports\", \"baseColour\": \"Blue\", \"articleType\": \"Tshirts\"}<|im_end|>\n",
      "--------------------------------------------------\n",
      "\n",
      "--- 샘플 12 ---\n",
      "모델의 예측: {\"gender\": \"Men\", \"masterCategory\": \"Accessories\", \"subCategory\": \"Bags\", \"season\": \"Summer\", \"usage\": \"Casual\", \"baseColour\": \"Black\", \"articleType\": \"Laptop Bag\"}\n",
      "레이블: {\"gender\": \"Men\", \"masterCategory\": \"Accessories\", \"subCategory\": \"Bags\", \"season\": \"Summer\", \"usage\": \"Casual\", \"baseColour\": \"Black\", \"articleType\": \"Laptop Bag\"}<|im_end|>\n",
      "--------------------------------------------------\n",
      "\n",
      "--- 샘플 13 ---\n",
      "모델의 예측: {\"gender\": \"Men\", \"masterCategory\": \"Footwear\", \"subCategory\": \"Shoes\", \"season\": \"Fall\", \"usage\": \"Sports\", \"baseColour\": \"Black\", \"articleType\": \"Sports Shoes\"}\n",
      "레이블: {\"gender\": \"Men\", \"masterCategory\": \"Footwear\", \"subCategory\": \"Shoes\", \"season\": \"Fall\", \"usage\": \"Sports\", \"baseColour\": \"Black\", \"articleType\": \"Sports Shoes\"}<|im_end|>\n",
      "--------------------------------------------------\n",
      "\n",
      "--- 샘플 14 ---\n",
      "모델의 예측: {\"gender\": \"Men\", \"masterCategory\": \"Apparel\", \"subCategory\": \"Topwear\", \"season\": \"Fall\", \"usage\": \"Casual\", \"baseColour\": \"White\", \"articleType\": \"Tshirts\"}\n",
      "레이블: {\"gender\": \"Men\", \"masterCategory\": \"Apparel\", \"subCategory\": \"Topwear\", \"season\": \"Summer\", \"usage\": \"Casual\", \"baseColour\": \"White\", \"articleType\": \"Tshirts\"}<|im_end|>\n",
      "--------------------------------------------------\n",
      "\n",
      "--- 샘플 15 ---\n",
      "모델의 예측: {\"gender\": \"Men\", \"masterCategory\": \"Footwear\", \"subCategory\": \"Shoes\", \"season\": \"Summer\", \"usage\": \"Sports\", \"baseColour\": \"White\", \"articleType\": \"Sports Shoes\"}\n",
      "레이블: {\"gender\": \"Men\", \"masterCategory\": \"Footwear\", \"subCategory\": \"Shoes\", \"season\": \"Summer\", \"usage\": \"Sports\", \"baseColour\": \"White\", \"articleType\": \"Sports Shoes\"}<|im_end|>\n",
      "--------------------------------------------------\n",
      "\n",
      "--- 샘플 16 ---\n",
      "모델의 예측: {\"gender\": \"Men\", \"masterCategory\": \"Apparel\", \"subCategory\": \"Topwear\", \"season\": \"Fall\", \"usage\": \"Sports\", \"baseColour\": \"Black\", \"articleType\": \"Tshirts\"}\n",
      "레이블: {\"gender\": \"Men\", \"masterCategory\": \"Apparel\", \"subCategory\": \"Topwear\", \"season\": \"Summer\", \"usage\": \"Sports\", \"baseColour\": \"Black\", \"articleType\": \"Tshirts\"}<|im_end|>\n",
      "--------------------------------------------------\n",
      "\n",
      "--- 샘플 17 ---\n",
      "모델의 예측: {\"gender\": \"Boys\", \"masterCategory\": \"Apparel\", \"subCategory\": \"Topwear\", \"season\": \"Summer\", \"usage\": \"Casual\", \"baseColour\": \"Blue\", \"articleType\": \"Tshirts\"}\n",
      "레이블: {\"gender\": \"Boys\", \"masterCategory\": \"Apparel\", \"subCategory\": \"Topwear\", \"season\": \"Summer\", \"usage\": \"Casual\", \"baseColour\": \"Blue\", \"articleType\": \"Tshirts\"}<|im_end|>\n",
      "--------------------------------------------------\n",
      "\n",
      "--- 샘플 18 ---\n",
      "모델의 예측: {\"gender\": \"Men\", \"masterCategory\": \"Footwear\", \"subCategory\": \"Shoes\", \"season\": \"Summer\", \"usage\": \"Casual\", \"baseColour\": \"Red\", \"articleType\": \"Casual Shoes\"}\n",
      "레이블: {\"gender\": \"Men\", \"masterCategory\": \"Footwear\", \"subCategory\": \"Shoes\", \"season\": \"Summer\", \"usage\": \"Casual\", \"baseColour\": \"Red\", \"articleType\": \"Casual Shoes\"}<|im_end|>\n",
      "--------------------------------------------------\n",
      "\n",
      "--- 샘플 19 ---\n",
      "모델의 예측: {\"gender\": \"Men\", \"masterCategory\": \"Apparel\", \"subCategory\": \"Topwear\", \"season\": \"Fall\", \"usage\": \"Formal\", \"baseColour\": \"Blue\", \"articleType\": \"Shirts\"}\n",
      "레이블: {\"gender\": \"Men\", \"masterCategory\": \"Apparel\", \"subCategory\": \"Topwear\", \"season\": \"Fall\", \"usage\": \"Casual\", \"baseColour\": \"Blue\", \"articleType\": \"Shirts\"}<|im_end|>\n",
      "--------------------------------------------------\n",
      "\n",
      "--- 샘플 20 ---\n",
      "모델의 예측: {\"gender\": \"Men\", \"masterCategory\": \"Accessories\", \"subCategory\": \"Jewellery\", \"season\": \"Summer\", \"usage\": \"Casual\", \"baseColour\": \"Steel\", \"articleType\": \"Ring\"}\n",
      "레이블: {\"gender\": \"Men\", \"masterCategory\": \"Accessories\", \"subCategory\": \"Jewellery\", \"season\": \"Summer\", \"usage\": \"Casual\", \"baseColour\": \"Steel\", \"articleType\": \"Ring\"}<|im_end|>\n",
      "--------------------------------------------------\n",
      "\n",
      "--- 샘플 21 ---\n",
      "모델의 예측: {\"gender\": \"Girls\", \"masterCategory\": \"Apparel\", \"subCategory\": \"Dress\", \"season\": \"Summer\", \"usage\": \"Casual\", \"baseColour\": \"Blue\", \"articleType\": \"Dresses\"}\n",
      "레이블: {\"gender\": \"Girls\", \"masterCategory\": \"Apparel\", \"subCategory\": \"Dress\", \"season\": \"Summer\", \"usage\": \"Casual\", \"baseColour\": \"Blue\", \"articleType\": \"Dresses\"}<|im_end|>\n",
      "--------------------------------------------------\n",
      "\n",
      "--- 샘플 22 ---\n",
      "모델의 예측: {\"gender\": \"Women\", \"masterCategory\": \"Footwear\", \"subCategory\": \"Shoes\", \"season\": \"Summer\", \"usage\": \"Casual\", \"baseColour\": \"Black\", \"articleType\": \"Casual Shoes\"}\n",
      "레이블: {\"gender\": \"Women\", \"masterCategory\": \"Footwear\", \"subCategory\": \"Shoes\", \"season\": \"Summer\", \"usage\": \"Casual\", \"baseColour\": \"Black\", \"articleType\": \"Casual Shoes\"}<|im_end|>\n",
      "--------------------------------------------------\n",
      "\n",
      "--- 샘플 23 ---\n",
      "모델의 예측: {\"gender\": \"Women\", \"masterCategory\": \"Apparel\", \"subCategory\": \"Topwear\", \"season\": \"Summer\", \"usage\": \"Casual\", \"baseColour\": \"Black\", \"articleType\": \"Tops\"}\n",
      "레이블: {\"gender\": \"Women\", \"masterCategory\": \"Apparel\", \"subCategory\": \"Topwear\", \"season\": \"Fall\", \"usage\": \"Casual\", \"baseColour\": \"Black\", \"articleType\": \"Tops\"}<|im_end|>\n",
      "--------------------------------------------------\n",
      "\n",
      "--- 샘플 24 ---\n",
      "모델의 예측: {\"gender\": \"Women\", \"masterCategory\": \"Apparel\", \"subCategory\": \"Topwear\", \"season\": \"Fall\", \"usage\": \"Casual\", \"baseColour\": \"Blue\", \"articleType\": \"Sweatshirts\"}\n",
      "레이블: {\"gender\": \"Women\", \"masterCategory\": \"Apparel\", \"subCategory\": \"Topwear\", \"season\": \"Fall\", \"usage\": \"Casual\", \"baseColour\": \"Blue\", \"articleType\": \"Sweatshirts\"}<|im_end|>\n",
      "--------------------------------------------------\n",
      "\n",
      "--- 샘플 25 ---\n",
      "모델의 예측: {\"gender\": \"Women\", \"masterCategory\": \"Accessories\", \"subCategory\": \"Belts\", \"season\": \"Summer\", \"usage\": \"Casual\", \"baseColour\": \"Black\", \"articleType\": \"Belts\"}\n",
      "레이블: {\"gender\": \"Women\", \"masterCategory\": \"Accessories\", \"subCategory\": \"Belts\", \"season\": \"Summer\", \"usage\": \"Casual\", \"baseColour\": \"Black\", \"articleType\": \"Belts\"}<|im_end|>\n",
      "--------------------------------------------------\n",
      "\n",
      "--- 샘플 26 ---\n",
      "모델의 예측: {\"gender\": \"Boys\", \"masterCategory\": \"Apparel\", \"subCategory\": \"Topwear\", \"season\": \"Summer\", \"usage\": \"Casual\", \"baseColour\": \"Black\", \"articleType\": \"Tshirts\"}\n",
      "레이블: {\"gender\": \"Boys\", \"masterCategory\": \"Apparel\", \"subCategory\": \"Topwear\", \"season\": \"Summer\", \"usage\": \"Casual\", \"baseColour\": \"Black\", \"articleType\": \"Tshirts\"}<|im_end|>\n",
      "--------------------------------------------------\n",
      "\n",
      "--- 샘플 27 ---\n",
      "모델의 예측: {\"gender\": \"Men\", \"masterCategory\": \"Apparel\", \"subCategory\": \"Topwear\", \"season\": \"Summer\", \"usage\": \"Casual\", \"baseColour\": \"Black\", \"articleType\": \"Tshirts\"}\n",
      "레이블: {\"gender\": \"Men\", \"masterCategory\": \"Apparel\", \"subCategory\": \"Topwear\", \"season\": \"Summer\", \"usage\": \"Casual\", \"baseColour\": \"Black\", \"articleType\": \"Tshirts\"}<|im_end|>\n",
      "--------------------------------------------------\n",
      "\n",
      "--- 샘플 28 ---\n",
      "모델의 예측: {\"gender\": \"Men\", \"masterCategory\": \"Apparel\", \"subCategory\": \"Topwear\", \"season\": \"Fall\", \"usage\": \"Formal\", \"baseColour\": \"Orange\", \"articleType\": \"Shirts\"}\n",
      "레이블: {\"gender\": \"Men\", \"masterCategory\": \"Apparel\", \"subCategory\": \"Topwear\", \"season\": \"Fall\", \"usage\": \"Formal\", \"baseColour\": \"Orange\", \"articleType\": \"Shirts\"}<|im_end|>\n",
      "--------------------------------------------------\n",
      "\n",
      "--- 샘플 29 ---\n",
      "모델의 예측: {\"gender\": \"Women\", \"masterCategory\": \"Personal Care\", \"subCategory\": \"Lips\", \"season\": \"Spring\", \"usage\": \"Casual\", \"baseColour\": \"Red\", \"articleType\": \"Lip Liner\"}\n",
      "레이블: {\"gender\": \"Women\", \"masterCategory\": \"Personal Care\", \"subCategory\": \"Lips\", \"season\": \"Spring\", \"usage\": \"Casual\", \"baseColour\": \"Maroon\", \"articleType\": \"Lip Liner\"}<|im_end|>\n",
      "--------------------------------------------------\n",
      "\n",
      "--- 샘플 30 ---\n",
      "모델의 예측: {\"gender\": \"Men\", \"masterCategory\": \"Apparel\", \"subCategory\": \"Topwear\", \"season\": \"Fall\", \"usage\": \"Casual\", \"baseColour\": \"Brown\", \"articleType\": \"Shirts\"}\n",
      "레이블: {\"gender\": \"Men\", \"masterCategory\": \"Apparel\", \"subCategory\": \"Topwear\", \"season\": \"Fall\", \"usage\": \"Casual\", \"baseColour\": \"Brown\", \"articleType\": \"Shirts\"}<|im_end|>\n",
      "--------------------------------------------------\n",
      "\n",
      "--- 샘플 31 ---\n",
      "모델의 예측: {\"gender\": \"Women\", \"masterCategory\": \"Apparel\", \"subCategory\": \"Bottomwear\", \"season\": \"Summer\", \"usage\": \"Casual\", \"baseColour\": \"Blue\", \"articleType\": \"Shorts\"}\n",
      "레이블: {\"gender\": \"Women\", \"masterCategory\": \"Apparel\", \"subCategory\": \"Bottomwear\", \"season\": \"Fall\", \"usage\": \"Casual\", \"baseColour\": \"Blue\", \"articleType\": \"Shorts\"}<|im_end|>\n",
      "--------------------------------------------------\n",
      "\n",
      "--- 샘플 32 ---\n",
      "모델의 예측: {\"gender\": \"Women\", \"masterCategory\": \"Accessories\", \"subCategory\": \"Bags\", \"season\": \"Summer\", \"usage\": \"Casual\", \"baseColour\": \"Blue\", \"articleType\": \"Handbags\"}\n",
      "레이블: {\"gender\": \"Women\", \"masterCategory\": \"Accessories\", \"subCategory\": \"Bags\", \"season\": \"Winter\", \"usage\": \"Casual\", \"baseColour\": \"Blue\", \"articleType\": \"Handbags\"}<|im_end|>\n",
      "--------------------------------------------------\n",
      "\n",
      "--- 샘플 33 ---\n",
      "모델의 예측: {\"gender\": \"Women\", \"masterCategory\": \"Personal Care\", \"subCategory\": \"Nails\", \"season\": \"Spring\", \"usage\": \"Casual\", \"baseColour\": \"Blue\", \"articleType\": \"Nail Polish\"}\n",
      "레이블: {\"gender\": \"Women\", \"masterCategory\": \"Personal Care\", \"subCategory\": \"Nails\", \"season\": \"Spring\", \"usage\": \"Casual\", \"baseColour\": \"Blue\", \"articleType\": \"Nail Polish\"}<|im_end|>\n",
      "--------------------------------------------------\n",
      "\n",
      "--- 샘플 34 ---\n",
      "모델의 예측: {\"gender\": \"Men\", \"masterCategory\": \"Footwear\", \"subCategory\": \"Shoes\", \"season\": \"Summer\", \"usage\": \"Casual\", \"baseColour\": \"Beige\", \"articleType\": \"Casual Shoes\"}\n",
      "레이블: {\"gender\": \"Men\", \"masterCategory\": \"Footwear\", \"subCategory\": \"Shoes\", \"season\": \"Summer\", \"usage\": \"Casual\", \"baseColour\": \"Beige\", \"articleType\": \"Casual Shoes\"}<|im_end|>\n",
      "--------------------------------------------------\n",
      "\n",
      "--- 샘플 35 ---\n",
      "모델의 예측: {\"gender\": \"Men\", \"masterCategory\": \"Apparel\", \"subCategory\": \"Topwear\", \"season\": \"Fall\", \"usage\": \"Casual\", \"baseColour\": \"Grey\", \"articleType\": \"Shirts\"}\n",
      "레이블: {\"gender\": \"Men\", \"masterCategory\": \"Apparel\", \"subCategory\": \"Topwear\", \"season\": \"Summer\", \"usage\": \"Casual\", \"baseColour\": \"Grey\", \"articleType\": \"Shirts\"}<|im_end|>\n",
      "--------------------------------------------------\n",
      "\n",
      "--- 샘플 36 ---\n",
      "모델의 예측: {\"gender\": \"Women\", \"masterCategory\": \"Apparel\", \"subCategory\": \"Loungewear and Nightwear\", \"season\": \"Summer\", \"usage\": \"Casual\", \"baseColour\": \"Grey\", \"articleType\": \"Night suits\"}\n",
      "레이블: {\"gender\": \"Women\", \"masterCategory\": \"Apparel\", \"subCategory\": \"Loungewear and Nightwear\", \"season\": \"Summer\", \"usage\": \"Casual\", \"baseColour\": \"Grey\", \"articleType\": \"Night suits\"}<|im_end|>\n",
      "--------------------------------------------------\n",
      "\n",
      "--- 샘플 37 ---\n",
      "모델의 예측: {\"gender\": \"Men\", \"masterCategory\": \"Apparel\", \"subCategory\": \"Topwear\", \"season\": \"Fall\", \"usage\": \"Casual\", \"baseColour\": \"Blue\", \"articleType\": \"Tshirts\"}\n",
      "레이블: {\"gender\": \"Men\", \"masterCategory\": \"Apparel\", \"subCategory\": \"Topwear\", \"season\": \"Fall\", \"usage\": \"Casual\", \"baseColour\": \"Blue\", \"articleType\": \"Tshirts\"}<|im_end|>\n",
      "--------------------------------------------------\n",
      "\n",
      "--- 샘플 38 ---\n",
      "모델의 예측: {\"gender\": \"Unisex\", \"masterCategory\": \"Footwear\", \"subCategory\": \"Shoes\", \"season\": \"Fall\", \"usage\": \"Casual\", \"baseColour\": \"Black\", \"articleType\": \"Casual Shoes\"}\n",
      "레이블: {\"gender\": \"Unisex\", \"masterCategory\": \"Footwear\", \"subCategory\": \"Shoes\", \"season\": \"Summer\", \"usage\": \"Casual\", \"baseColour\": \"Black\", \"articleType\": \"Casual Shoes\"}<|im_end|>\n",
      "--------------------------------------------------\n",
      "\n",
      "--- 샘플 39 ---\n",
      "모델의 예측: {\"gender\": \"Women\", \"masterCategory\": \"Apparel\", \"subCategory\": \"Topwear\", \"season\": \"Summer\", \"usage\": \"Casual\", \"baseColour\": \"White\", \"articleType\": \"Tops\"}\n",
      "레이블: {\"gender\": \"Women\", \"masterCategory\": \"Apparel\", \"subCategory\": \"Topwear\", \"season\": \"Summer\", \"usage\": \"Casual\", \"baseColour\": \"White\", \"articleType\": \"Tops\"}<|im_end|>\n",
      "--------------------------------------------------\n",
      "\n",
      "--- 샘플 40 ---\n",
      "모델의 예측: {\"gender\": \"Unisex\", \"masterCategory\": \"Footwear\", \"subCategory\": \"Sandal\", \"season\": \"Summer\", \"usage\": \"Casual\", \"baseColour\": \"Pink\", \"articleType\": \"Sandals\"}\n",
      "레이블: {\"gender\": \"Unisex\", \"masterCategory\": \"Footwear\", \"subCategory\": \"Sandal\", \"season\": \"Fall\", \"usage\": \"Casual\", \"baseColour\": \"Pink\", \"articleType\": \"Sandals\"}<|im_end|>\n",
      "--------------------------------------------------\n",
      "\n",
      "--- 샘플 41 ---\n",
      "모델의 예측: {\"gender\": \"Women\", \"masterCategory\": \"Accessories\", \"subCategory\": \"Bags\", \"season\": \"Summer\", \"usage\": \"Casual\", \"baseColour\": \"Navy Blue\", \"articleType\": \"Handbags\"}\n",
      "레이블: {\"gender\": \"Women\", \"masterCategory\": \"Accessories\", \"subCategory\": \"Bags\", \"season\": \"Winter\", \"usage\": \"Casual\", \"baseColour\": \"Navy Blue\", \"articleType\": \"Handbags\"}<|im_end|>\n",
      "--------------------------------------------------\n",
      "\n",
      "--- 샘플 42 ---\n",
      "모델의 예측: {\"gender\": \"Men\", \"masterCategory\": \"Apparel\", \"subCategory\": \"Bottomwear\", \"season\": \"Fall\", \"usage\": \"Sports\", \"baseColour\": \"Navy Blue\", \"articleType\": \"Track Pants\"}\n",
      "레이블: {\"gender\": \"Men\", \"masterCategory\": \"Apparel\", \"subCategory\": \"Bottomwear\", \"season\": \"Summer\", \"usage\": \"Sports\", \"baseColour\": \"Navy Blue\", \"articleType\": \"Track Pants\"}<|im_end|>\n",
      "--------------------------------------------------\n",
      "\n",
      "--- 샘플 43 ---\n",
      "모델의 예측: {\"gender\": \"Women\", \"masterCategory\": \"Apparel\", \"subCategory\": \"Topwear\", \"season\": \"Summer\", \"usage\": \"Ethnic\", \"baseColour\": \"Blue\", \"articleType\": \"Kurtas\"}\n",
      "레이블: {\"gender\": \"Women\", \"masterCategory\": \"Apparel\", \"subCategory\": \"Topwear\", \"season\": \"Fall\", \"usage\": \"Ethnic\", \"baseColour\": \"Blue\", \"articleType\": \"Kurtas\"}<|im_end|>\n",
      "--------------------------------------------------\n",
      "\n",
      "--- 샘플 44 ---\n",
      "모델의 예측: {\"gender\": \"Women\", \"masterCategory\": \"Accessories\", \"subCategory\": \"Wallets\", \"season\": \"Summer\", \"usage\": \"Casual\", \"baseColour\": \"Pink\", \"articleType\": \"Wallets\"}\n",
      "레이블: {\"gender\": \"Women\", \"masterCategory\": \"Accessories\", \"subCategory\": \"Wallets\", \"season\": \"Summer\", \"usage\": \"Casual\", \"baseColour\": \"Pink\", \"articleType\": \"Wallets\"}<|im_end|>\n",
      "--------------------------------------------------\n",
      "\n",
      "--- 샘플 45 ---\n",
      "모델의 예측: {\"gender\": \"Women\", \"masterCategory\": \"Accessories\", \"subCategory\": \"Belts\", \"season\": \"Summer\", \"usage\": \"Casual\", \"baseColour\": \"Purple\", \"articleType\": \"Belts\"}\n",
      "레이블: {\"gender\": \"Women\", \"masterCategory\": \"Accessories\", \"subCategory\": \"Belts\", \"season\": \"Winter\", \"usage\": \"Casual\", \"baseColour\": \"Purple\", \"articleType\": \"Belts\"}<|im_end|>\n",
      "--------------------------------------------------\n",
      "\n",
      "--- 샘플 46 ---\n",
      "모델의 예측: {\"gender\": \"Women\", \"masterCategory\": \"Accessories\", \"subCategory\": \"Watches\", \"season\": \"Winter\", \"usage\": \"Casual\", \"baseColour\": \"White\", \"articleType\": \"Watches\"}\n",
      "레이블: {\"gender\": \"Women\", \"masterCategory\": \"Accessories\", \"subCategory\": \"Watches\", \"season\": \"Winter\", \"usage\": \"Casual\", \"baseColour\": \"White\", \"articleType\": \"Watches\"}<|im_end|>\n",
      "--------------------------------------------------\n",
      "\n",
      "--- 샘플 47 ---\n",
      "모델의 예측: {\"gender\": \"Men\", \"masterCategory\": \"Accessories\", \"subCategory\": \"Watches\", \"season\": \"Summer\", \"usage\": \"Casual\", \"baseColour\": \"Black\", \"articleType\": \"Watches\"}\n",
      "레이블: {\"gender\": \"Men\", \"masterCategory\": \"Accessories\", \"subCategory\": \"Watches\", \"season\": \"Winter\", \"usage\": \"Sports\", \"baseColour\": \"Black\", \"articleType\": \"Watches\"}<|im_end|>\n",
      "--------------------------------------------------\n",
      "\n",
      "--- 샘플 48 ---\n",
      "모델의 예측: {\"gender\": \"Women\", \"masterCategory\": \"Accessories\", \"subCategory\": \"Bags\", \"season\": \"Summer\", \"usage\": \"Casual\", \"baseColour\": \"Red\", \"articleType\": \"Handbags\"}\n",
      "레이블: {\"gender\": \"Women\", \"masterCategory\": \"Accessories\", \"subCategory\": \"Bags\", \"season\": \"Summer\", \"usage\": \"Casual\", \"baseColour\": \"Red\", \"articleType\": \"Handbags\"}<|im_end|>\n",
      "--------------------------------------------------\n",
      "\n",
      "--- 샘플 49 ---\n",
      "모델의 예측: {\"gender\": \"Men\", \"masterCategory\": \"Accessories\", \"subCategory\": \"Eyewear\", \"season\": \"Winter\", \"usage\": \"Casual\", \"baseColour\": \"Gold\", \"articleType\": \"Sunglasses\"}\n",
      "레이블: {\"gender\": \"Men\", \"masterCategory\": \"Accessories\", \"subCategory\": \"Eyewear\", \"season\": \"Winter\", \"usage\": \"Casual\", \"baseColour\": \"Gold\", \"articleType\": \"Sunglasses\"}<|im_end|>\n",
      "--------------------------------------------------\n",
      "\n",
      "--- 샘플 50 ---\n",
      "모델의 예측: {\"gender\": \"Women\", \"masterCategory\": \"Accessories\", \"subCategory\": \"Bags\", \"season\": \"Summer\", \"usage\": \"Casual\", \"baseColour\": \"Brown\", \"articleType\": \"Handbags\"}\n",
      "레이블: {\"gender\": \"Women\", \"masterCategory\": \"Accessories\", \"subCategory\": \"Bags\", \"season\": \"Summer\", \"usage\": \"Casual\", \"baseColour\": \"Brown\", \"articleType\": \"Handbags\"}<|im_end|>\n",
      "--------------------------------------------------\n"
     ]
    },
    {
     "name": "stderr",
     "output_type": "stream",
     "text": [
      "\n"
     ]
    }
   ],
   "source": [
    "# 상위 50개 테스트 데이터 추출\n",
    "test_samples = test_dataset[:50]\n",
    "\n",
    "# 배치 인퍼런스를 위한 입력 데이터 준비\n",
    "batch_inputs = []\n",
    "batch_labels = []\n",
    "\n",
    "for sample in test_samples:\n",
    "    # 각 샘플의 메시지 처리\n",
    "    messages = sample[\"messages\"]\n",
    "    \n",
    "    # 프롬프트 생성\n",
    "    prompt = processor.apply_chat_template(\n",
    "        messages,\n",
    "        tokenize=False,\n",
    "        add_generation_prompt=False,\n",
    "    )\n",
    "    \n",
    "    # 입력과 레이블 분리\n",
    "    input_part = prompt.split('<|im_start|>assistant')[0] + '<|im_start|>assistant'\n",
    "    label_part = prompt.split('<|im_start|>assistant')[1]\n",
    "    \n",
    "    # 이미지/비디오 데이터 처리\n",
    "    image_inputs, video_inputs = process_vision_info(messages)\n",
    "    \n",
    "    # 멀티모달 데이터 구성\n",
    "    mm_data = {}\n",
    "    if image_inputs is not None:\n",
    "        mm_data[\"image\"] = image_inputs\n",
    "    if video_inputs is not None:\n",
    "        mm_data[\"video\"] = video_inputs\n",
    "    \n",
    "    # LLM 입력 데이터 구성\n",
    "    llm_input = {\n",
    "        \"prompt\": input_part,\n",
    "        \"multi_modal_data\": mm_data,\n",
    "    }\n",
    "    \n",
    "    batch_inputs.append(llm_input)\n",
    "    batch_labels.append(label_part)\n",
    "\n",
    "# 배치 인퍼런스 실행\n",
    "print(\"배치 인퍼런스 시작...\")\n",
    "outputs = llm.generate(batch_inputs, sampling_params=sampling_params)\n",
    "\n",
    "# 결과 출력\n",
    "print(\"\\n=== 배치 인퍼런스 결과 ===\")\n",
    "for i, output in enumerate(outputs):\n",
    "    generated_text = output.outputs[0].text\n",
    "    print(f\"\\n--- 샘플 {i+1} ---\")\n",
    "    print(f\"모델의 예측: {generated_text.strip()}\")\n",
    "    print(f\"레이블: {batch_labels[i].strip()}\")\n",
    "    print(\"-\" * 50)"
   ]
  },
  {
   "cell_type": "markdown",
   "id": "a87434ee-b501-4fb1-b111-42c26a7401da",
   "metadata": {},
   "source": [
    "## 5. 모델 평가 (테스트 데이터 50건)"
   ]
  },
  {
   "cell_type": "code",
   "execution_count": 35,
   "id": "7aff72d3-d162-49ba-9ac6-9ffaa2e33b1b",
   "metadata": {},
   "outputs": [
    {
     "name": "stdout",
     "output_type": "stream",
     "text": [
      "\n",
      "=== F1 Score 결과 ===\n",
      "Key             F1 Score   샘플 수    \n",
      "-----------------------------------\n",
      "gender          1.0000     50\n",
      "masterCategory  1.0000     50\n",
      "subCategory     1.0000     50\n",
      "season          0.7099     50\n",
      "usage           0.8880     50\n",
      "baseColour      0.8899     50\n",
      "articleType     1.0000     50\n",
      "-----------------------------------\n",
      "평균 F1           0.9268\n",
      "\n",
      "=== 상세 결과 ===\n",
      "gender: 정확도 1.0000 (50/50)\n",
      "masterCategory: 정확도 1.0000 (50/50)\n",
      "subCategory: 정확도 1.0000 (50/50)\n",
      "season: 정확도 0.6800 (34/50)\n",
      "usage: 정확도 0.9600 (48/50)\n",
      "baseColour: 정확도 0.9400 (47/50)\n",
      "articleType: 정확도 1.0000 (50/50)\n"
     ]
    }
   ],
   "source": [
    "import json  # JSON 데이터를 파싱하고 처리하기 위한 라이브러리\n",
    "from sklearn.metrics import f1_score  # F1 점수를 계산하기 위한 scikit-learn 함수\n",
    "from collections import defaultdict  # 기본값이 있는 딕셔너리를 만들기 위한 클래스\n",
    "\n",
    "def calculate_f1_scores(outputs, batch_labels):\n",
    "    \"\"\"각 key별로 F1 score를 계산하는 함수\"\"\"\n",
    "    \n",
    "    # 각 키별로 예측값과 실제값을 저장할 딕셔너리\n",
    "    # defaultdict(list)는 존재하지 않는 키에 접근할 때 자동으로 빈 리스트를 생성\n",
    "    predictions_by_key = defaultdict(list)  # 키별 예측값들을 저장\n",
    "    labels_by_key = defaultdict(list)       # 키별 실제값들을 저장\n",
    "    \n",
    "    # outputs는 모델의 예측 결과들, enumerate로 인덱스와 함께 순회\n",
    "    for i, output in enumerate(outputs):\n",
    "        # 모델 예측 결과 파싱\n",
    "        try:\n",
    "            # output.outputs[0].text에서 모델이 생성한 텍스트를 가져옴\n",
    "            pred_text = output.outputs[0].text.strip()  # 앞뒤 공백 제거\n",
    "            # JSON 문자열을 파이썬 딕셔너리로 변환\n",
    "            pred_json = json.loads(pred_text)\n",
    "        except:\n",
    "            # JSON 파싱에 실패하면 에러 메시지 출력하고 다음 샘플로 넘어감\n",
    "            print(f\"샘플 {i+1}: 예측 결과 JSON 파싱 실패\")\n",
    "            continue  # 현재 반복을 건너뛰고 다음 샘플로\n",
    "        \n",
    "        # 실제 레이블 파싱\n",
    "        try:\n",
    "            # batch_labels[i]에서 i번째 샘플의 실제 레이블을 가져옴\n",
    "            label_text = batch_labels[i].strip()  # 앞뒤 공백 제거\n",
    "            \n",
    "            # <|im_end|> 제거 (모델 출력 끝을 나타내는 특수 토큰)\n",
    "            if label_text.endswith('<|im_end|>'):\n",
    "                # 문자열 끝에서 '<|im_end|>' (10글자)를 제거\n",
    "                label_text = label_text[:-10]\n",
    "            \n",
    "            # JSON 문자열을 파이썬 딕셔너리로 변환\n",
    "            label_json = json.loads(label_text)\n",
    "        except:\n",
    "            # JSON 파싱에 실패하면 에러 메시지 출력하고 다음 샘플로 넘어감\n",
    "            print(f\"샘플 {i+1}: 레이블 JSON 파싱 실패\")\n",
    "            continue\n",
    "        \n",
    "        # 각 키별로 예측값과 실제값 저장\n",
    "        # label_json의 모든 키를 순회 (예: gender, masterCategory, subCategory 등)\n",
    "        for key in label_json.keys():\n",
    "            # 예측 결과에도 해당 키가 있는지 확인\n",
    "            if key in pred_json:\n",
    "                # 해당 키의 예측값을 predictions_by_key[key] 리스트에 추가\n",
    "                predictions_by_key[key].append(pred_json[key])\n",
    "                # 해당 키의 실제값을 labels_by_key[key] 리스트에 추가\n",
    "                labels_by_key[key].append(label_json[key])\n",
    "            else:\n",
    "                # 예측 결과에 해당 키가 없으면 경고 메시지 출력\n",
    "                print(f\"샘플 {i+1}: 키 '{key}' 예측 결과에 없음\")\n",
    "    \n",
    "    # 각 키별로 F1 score 계산\n",
    "    f1_scores = {}  # 키별 F1 점수를 저장할 딕셔너리\n",
    "    \n",
    "    # 실제값이 있는 모든 키에 대해 F1 점수 계산\n",
    "    for key in labels_by_key.keys():\n",
    "        # 해당 키에 대한 샘플이 1개 이상 있는지 확인\n",
    "        if len(labels_by_key[key]) > 0:\n",
    "            # 고유한 라벨들 확인 (예측값과 실제값에서 나타나는 모든 고유한 값들)\n",
    "            unique_labels = list(set(labels_by_key[key] + predictions_by_key[key]))\n",
    "            \n",
    "            # 모든 값이 동일한 경우 (예: 모든 샘플이 같은 값을 가짐)\n",
    "            if len(unique_labels) == 1:\n",
    "                # 완벽한 예측이므로 F1 점수 1.0\n",
    "                f1_scores[key] = 1.0\n",
    "            else:\n",
    "                # F1 score 계산 (macro average)\n",
    "                # macro average: 각 클래스별 F1을 계산한 후 평균\n",
    "                f1_scores[key] = f1_score(\n",
    "                    labels_by_key[key],      # 실제값 리스트\n",
    "                    predictions_by_key[key], # 예측값 리스트\n",
    "                    labels=unique_labels,    # 가능한 모든 라벨\n",
    "                    average='macro',         # 매크로 평균 사용\n",
    "                    zero_division=0          # 0으로 나누는 경우 0으로 처리\n",
    "                )\n",
    "    \n",
    "    # 계산된 F1 점수들과 예측/실제값 딕셔너리들을 반환\n",
    "    return f1_scores, predictions_by_key, labels_by_key\n",
    "\n",
    "# F1 score 계산 실행\n",
    "# 함수를 호출하여 결과를 받음\n",
    "f1_results, preds_by_key, labels_by_key = calculate_f1_scores(outputs, batch_labels)\n",
    "\n",
    "# 결과 출력\n",
    "print(\"\\n=== F1 Score 결과 ===\")\n",
    "# 테이블 헤더 출력 (왼쪽 정렬로 포맷팅)\n",
    "print(f\"{'Key':<15} {'F1 Score':<10} {'샘플 수':<8}\")\n",
    "print(\"-\" * 35)  # 구분선\n",
    "\n",
    "# 각 키별 F1 점수와 샘플 수 출력\n",
    "for key, score in f1_results.items():\n",
    "    sample_count = len(labels_by_key[key])  # 해당 키의 샘플 수\n",
    "    # 키 이름, F1 점수(소수점 4자리), 샘플 수를 포맷팅하여 출력\n",
    "    print(f\"{key:<15} {score:.4f}     {sample_count}\")\n",
    "\n",
    "# 전체 평균 F1 score 계산 및 출력\n",
    "if f1_results:  # F1 결과가 있는 경우만\n",
    "    # 모든 키의 F1 점수 평균 계산\n",
    "    avg_f1 = sum(f1_results.values()) / len(f1_results)\n",
    "    print(\"-\" * 35)  # 구분선\n",
    "    print(f\"{'평균 F1':<15} {avg_f1:.4f}\")\n",
    "\n",
    "# 각 키별 상세 결과 (정확도) 출력\n",
    "print(\"\\n=== 상세 결과 ===\")\n",
    "for key in f1_results.keys():\n",
    "    # 정확히 맞춘 예측의 개수 계산\n",
    "    # zip으로 예측값과 실제값을 쌍으로 만들어 비교\n",
    "    correct = sum(1 for p, l in zip(preds_by_key[key], labels_by_key[key]) if p == l)\n",
    "    total = len(labels_by_key[key])  # 전체 샘플 수\n",
    "    \n",
    "    # 정확도 계산 (맞춘 개수 / 전체 개수)\n",
    "    accuracy = correct / total if total > 0 else 0\n",
    "    \n",
    "    # 키별 정확도와 정확한 예측 수/전체 수 출력\n",
    "    print(f\"{key}: 정확도 {accuracy:.4f} ({correct}/{total})\")"
   ]
  },
  {
   "cell_type": "code",
   "execution_count": null,
   "id": "9f8ee3e9-3ba5-4436-8193-650ac7a115d0",
   "metadata": {},
   "outputs": [],
   "source": []
  }
 ],
 "metadata": {
  "kernelspec": {
   "display_name": "Python 3 (ipykernel)",
   "language": "python",
   "name": "python3"
  },
  "language_info": {
   "codemirror_mode": {
    "name": "ipython",
    "version": 3
   },
   "file_extension": ".py",
   "mimetype": "text/x-python",
   "name": "python",
   "nbconvert_exporter": "python",
   "pygments_lexer": "ipython3",
   "version": "3.11.11"
  }
 },
 "nbformat": 4,
 "nbformat_minor": 5
}
