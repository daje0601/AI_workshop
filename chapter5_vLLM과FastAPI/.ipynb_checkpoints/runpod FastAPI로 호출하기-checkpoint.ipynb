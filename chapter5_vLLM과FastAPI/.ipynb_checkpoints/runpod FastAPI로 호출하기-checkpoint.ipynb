{
 "cells": [
  {
   "cell_type": "code",
   "execution_count": 2,
   "id": "967e4b93-4bda-43ec-b396-0d0d40e4b5cc",
   "metadata": {},
   "outputs": [
    {
     "name": "stdout",
     "output_type": "stream",
     "text": [
      "Status Code: 200\n",
      "{\n",
      "  \"is_stock_related\": true,\n",
      "  \"negative_impact_stocks\": [],\n",
      "  \"negative_keywords\": [],\n",
      "  \"positive_impact_stocks\": [\n",
      "    \"국민은행\",\n",
      "    \"부산은행\",\n",
      "    \"수협은행\",\n",
      "    \"우리은행\",\n",
      "    \"하나은행\"\n",
      "  ],\n",
      "  \"positive_keywords\": [\n",
      "    \"표준 PF\",\n",
      "    \"후분양 PF\",\n",
      "    \"주택사업자\",\n",
      "    \"자금조달\",\n",
      "    \"금융지원\",\n",
      "    \"비용경감\",\n",
      "    \"저금리\",\n",
      "    \"주택공급\",\n",
      "    \"부동산 시장 안정\",\n",
      "    \"주거안정\"\n",
      "  ],\n",
      "  \"reason_for_negative_impact\": \"\",\n",
      "  \"reason_for_positive_impact\": \"HUG 국민·우리은행 등 표준 PF 주관금융사 재선정을 통해 주택사업자에게 저금리 금융지원을 제공할 수 있게 되어, 비용 경감과 주택 공급 확대를 통한 부동산 시장 안정과 주거 안정에 긍정적인 영향을 줄 것으로 예상된다.\",\n",
      "  \"summary\": \"HUG는 표준 PF와 후분양 PF의 주관금융사를 새로 선정하여 주택사업자에게 저금리 금융지원을 제공하고, 주택 공급 확대를 통한 부동산 시장 안정과 주거 안정을 지원할 계획이다.\"\n",
      "}\n"
     ]
    }
   ],
   "source": [
    "import requests\n",
    "import json\n",
    "\n",
    "# API 엔드포인트\n",
    "url = \"http://localhost:8000/chat\"\n",
    "\n",
    "# 요청 데이터\n",
    "data = {\n",
    "    \"query\": \"\"\"HUG 국민·우리은행 등 표준 PF 주관금융사로 재선정 주택도시보증공사 HUG 는 주택사업자의 원활한 자금조달을 지원하는 표준 프로젝트 파이낸싱 PF 과 후분양 표준 PF 보증의 주관금융사를 새로 선정했다고 4일 밝혔다. PF 보증이란 주택 건설 사업의 미래 현금수입과 사업성을 담보로 주택 사업자가 대출받는 토 지비 등 사업비에 대한 주택사업금융의 원리금 상환을 책임지는 보증을 말한다. 후분양 PF 보증이란 주택 사업자가 주택의 일부를 후분양하는 조건으로 주택 건설  자금 대출금을 조달하는 경우에 원리금 상환을 책임지는 보증이다. HUG는 2014년 제도를 시행한 이후 표준 PF 보증 약 12조6000억원 후분양 표준 PF 보증 약 8600억원을 지원했다. 이번에 새로 선정된 주관금융사는 표준 PF의 경우 국민은행 부산은행 수협은행 우리은행 하나은행이다. 후분양 표준 PF는 부산은행 우리은행 수협은행이다. 권형택 HUG 사장은 \"최근 원자재가격 급등 대출금리 인상 등 비용증가로 어려움을 겪는 주택사업자에게 저금리 금융지원을 통하여 비용을 경감시킬 수 있게 된 점을 뜻깊게 생각한다\"며 \"표준PF 후분양 표준PF 제도운영을 통하여 주택공급 확대를 통한 부동산 시장 안정 주거안정 지원에 큰 도움이 될 것으로 전망한다\"고 밝혔다.\"\"\",\n",
    "    \"provider\": \"runpod\"\n",
    "}\n",
    "\n",
    "# 헤더 설정\n",
    "headers = {\n",
    "    \"Content-Type\": \"application/json\"\n",
    "}\n",
    "\n",
    "# POST 요청 보내기\n",
    "response = requests.post(url, headers=headers, json=data)\n",
    "\n",
    "# 응답 확인\n",
    "print(f\"Status Code: {response.status_code}\")\n",
    "\n",
    "# JSON 응답 파싱 (응답이 JSON 형식인 경우)\n",
    "if response.status_code == 200:\n",
    "    result = response.json()\n",
    "    print(json.dumps(result, indent=2, ensure_ascii=False))"
   ]
  },
  {
   "cell_type": "code",
   "execution_count": null,
   "id": "eac8d395-65bd-42c3-a4b5-ddb79460ac7d",
   "metadata": {},
   "outputs": [],
   "source": []
  }
 ],
 "metadata": {
  "kernelspec": {
   "display_name": "Python 3 (ipykernel)",
   "language": "python",
   "name": "python3"
  },
  "language_info": {
   "codemirror_mode": {
    "name": "ipython",
    "version": 3
   },
   "file_extension": ".py",
   "mimetype": "text/x-python",
   "name": "python",
   "nbconvert_exporter": "python",
   "pygments_lexer": "ipython3",
   "version": "3.11.11"
  }
 },
 "nbformat": 4,
 "nbformat_minor": 5
}
